{
  "nbformat": 4,
  "nbformat_minor": 0,
  "metadata": {
    "colab": {
      "provenance": []
    },
    "kernelspec": {
      "name": "python3",
      "display_name": "Python 3"
    }
  },
  "cells": [
    {
      "cell_type": "markdown",
      "metadata": {
        "id": "-qDsm6BnME2X"
      },
      "source": [
        "# Praktikum Pengantar Pembelajaran Mesin\n",
        "\n",
        "\n",
        "---\n",
        "## Bab 5. Klasifikasi Decision Tree\n"
      ]
    },
    {
      "cell_type": "markdown",
      "metadata": {
        "id": "sQAGcnK3MOS7"
      },
      "source": [
        "### 1) Import Data\n",
        "\n",
        "Praktikum kali ini menggunakan dataset [Car Evaluation Dataset](https://archive.ics.uci.edu/ml/datasets/Car+Evaluation) dari UCI Machine Learning Repository. Dataset ini telah digunakan pada praktikum sebelumnya. Detail fitur dapat Anda pelajari pada link yang tersedia.\n",
        "\n",
        "Unduh dataset yang akan digunakan pada praktikum kali ini. Anda dapat menggunakan aplikasi wget untuk mendowload dataset dan menyimpannya dalam Google Colab. Jalankan cell di bawah ini untuk mengunduh dataset"
      ]
    },
    {
      "cell_type": "code",
      "metadata": {
        "id": "FpjqVlzBMNLd",
        "colab": {
          "base_uri": "https://localhost:8080/"
        },
        "outputId": "12aa8fa8-f680-4d92-bdf5-c682ea9432fa"
      },
      "source": [
        "!wget --no-check-certificate \"https://drive.google.com/uc?export=download&id=1RXcXrwkVoOI-hPvfJM1-FlmO_bB7M3YJ&quot\" -O car_sample.csv"
      ],
      "execution_count": 27,
      "outputs": [
        {
          "output_type": "stream",
          "name": "stdout",
          "text": [
            "--2024-04-21 16:12:51--  https://drive.google.com/uc?export=download&id=1RXcXrwkVoOI-hPvfJM1-FlmO_bB7M3YJ&quot\n",
            "Resolving drive.google.com (drive.google.com)... 172.217.203.102, 172.217.203.139, 172.217.203.101, ...\n",
            "Connecting to drive.google.com (drive.google.com)|172.217.203.102|:443... connected.\n",
            "HTTP request sent, awaiting response... 303 See Other\n",
            "Location: https://drive.usercontent.google.com/download?id=1RXcXrwkVoOI-hPvfJM1-FlmO_bB7M3YJ&export=download [following]\n",
            "--2024-04-21 16:12:51--  https://drive.usercontent.google.com/download?id=1RXcXrwkVoOI-hPvfJM1-FlmO_bB7M3YJ&export=download\n",
            "Resolving drive.usercontent.google.com (drive.usercontent.google.com)... 173.194.211.132, 2607:f8b0:400c:c10::84\n",
            "Connecting to drive.usercontent.google.com (drive.usercontent.google.com)|173.194.211.132|:443... connected.\n",
            "HTTP request sent, awaiting response... 200 OK\n",
            "Length: 43263 (42K) [application/octet-stream]\n",
            "Saving to: ‘car_sample.csv’\n",
            "\n",
            "car_sample.csv      100%[===================>]  42.25K  --.-KB/s    in 0s      \n",
            "\n",
            "2024-04-21 16:12:51 (114 MB/s) - ‘car_sample.csv’ saved [43263/43263]\n",
            "\n"
          ]
        }
      ]
    },
    {
      "cell_type": "markdown",
      "metadata": {
        "id": "SJy4t3lIOgGp"
      },
      "source": [
        "Setelah dataset berhasil diunduh, langkah berikutnya adalah membaca dataset dengan memanfaatkan fungsi **readcsv** dari library pandas. Lakukan pembacaan berkas csv ke dalam dataframe dengan nama **data** menggunakan fungsi **readcsv**. Jangan lupa untuk melakukan import library pandas terlebih dahulu\n"
      ]
    },
    {
      "cell_type": "code",
      "metadata": {
        "id": "mdhbxk_2OzbB"
      },
      "source": [
        "import pandas as pd\n",
        "import numpy as np\n",
        "data = pd.read_csv('car_sample.csv')"
      ],
      "execution_count": 28,
      "outputs": []
    },
    {
      "cell_type": "markdown",
      "metadata": {
        "id": "w6NfrIDTOK38"
      },
      "source": [
        "\n",
        "\n",
        "Cek isi dataset Anda dengan menggunakan perintah **head()**"
      ]
    },
    {
      "cell_type": "code",
      "metadata": {
        "id": "Uaiaj796OFH3",
        "colab": {
          "base_uri": "https://localhost:8080/",
          "height": 206
        },
        "outputId": "b5fe0580-1de2-41ba-b60a-5c95bfe45872"
      },
      "source": [
        "data.head()"
      ],
      "execution_count": 29,
      "outputs": [
        {
          "output_type": "execute_result",
          "data": {
            "text/plain": [
              "  buying  maint lug_boot safety  class\n",
              "0  vhigh  vhigh    small    low  unacc\n",
              "1  vhigh  vhigh    small    med  unacc\n",
              "2  vhigh  vhigh    small   high  unacc\n",
              "3  vhigh  vhigh      med    low  unacc\n",
              "4  vhigh  vhigh      med    med  unacc"
            ],
            "text/html": [
              "\n",
              "  <div id=\"df-3aa16ac8-12bf-4b69-a026-6cfb02a57b15\" class=\"colab-df-container\">\n",
              "    <div>\n",
              "<style scoped>\n",
              "    .dataframe tbody tr th:only-of-type {\n",
              "        vertical-align: middle;\n",
              "    }\n",
              "\n",
              "    .dataframe tbody tr th {\n",
              "        vertical-align: top;\n",
              "    }\n",
              "\n",
              "    .dataframe thead th {\n",
              "        text-align: right;\n",
              "    }\n",
              "</style>\n",
              "<table border=\"1\" class=\"dataframe\">\n",
              "  <thead>\n",
              "    <tr style=\"text-align: right;\">\n",
              "      <th></th>\n",
              "      <th>buying</th>\n",
              "      <th>maint</th>\n",
              "      <th>lug_boot</th>\n",
              "      <th>safety</th>\n",
              "      <th>class</th>\n",
              "    </tr>\n",
              "  </thead>\n",
              "  <tbody>\n",
              "    <tr>\n",
              "      <th>0</th>\n",
              "      <td>vhigh</td>\n",
              "      <td>vhigh</td>\n",
              "      <td>small</td>\n",
              "      <td>low</td>\n",
              "      <td>unacc</td>\n",
              "    </tr>\n",
              "    <tr>\n",
              "      <th>1</th>\n",
              "      <td>vhigh</td>\n",
              "      <td>vhigh</td>\n",
              "      <td>small</td>\n",
              "      <td>med</td>\n",
              "      <td>unacc</td>\n",
              "    </tr>\n",
              "    <tr>\n",
              "      <th>2</th>\n",
              "      <td>vhigh</td>\n",
              "      <td>vhigh</td>\n",
              "      <td>small</td>\n",
              "      <td>high</td>\n",
              "      <td>unacc</td>\n",
              "    </tr>\n",
              "    <tr>\n",
              "      <th>3</th>\n",
              "      <td>vhigh</td>\n",
              "      <td>vhigh</td>\n",
              "      <td>med</td>\n",
              "      <td>low</td>\n",
              "      <td>unacc</td>\n",
              "    </tr>\n",
              "    <tr>\n",
              "      <th>4</th>\n",
              "      <td>vhigh</td>\n",
              "      <td>vhigh</td>\n",
              "      <td>med</td>\n",
              "      <td>med</td>\n",
              "      <td>unacc</td>\n",
              "    </tr>\n",
              "  </tbody>\n",
              "</table>\n",
              "</div>\n",
              "    <div class=\"colab-df-buttons\">\n",
              "\n",
              "  <div class=\"colab-df-container\">\n",
              "    <button class=\"colab-df-convert\" onclick=\"convertToInteractive('df-3aa16ac8-12bf-4b69-a026-6cfb02a57b15')\"\n",
              "            title=\"Convert this dataframe to an interactive table.\"\n",
              "            style=\"display:none;\">\n",
              "\n",
              "  <svg xmlns=\"http://www.w3.org/2000/svg\" height=\"24px\" viewBox=\"0 -960 960 960\">\n",
              "    <path d=\"M120-120v-720h720v720H120Zm60-500h600v-160H180v160Zm220 220h160v-160H400v160Zm0 220h160v-160H400v160ZM180-400h160v-160H180v160Zm440 0h160v-160H620v160ZM180-180h160v-160H180v160Zm440 0h160v-160H620v160Z\"/>\n",
              "  </svg>\n",
              "    </button>\n",
              "\n",
              "  <style>\n",
              "    .colab-df-container {\n",
              "      display:flex;\n",
              "      gap: 12px;\n",
              "    }\n",
              "\n",
              "    .colab-df-convert {\n",
              "      background-color: #E8F0FE;\n",
              "      border: none;\n",
              "      border-radius: 50%;\n",
              "      cursor: pointer;\n",
              "      display: none;\n",
              "      fill: #1967D2;\n",
              "      height: 32px;\n",
              "      padding: 0 0 0 0;\n",
              "      width: 32px;\n",
              "    }\n",
              "\n",
              "    .colab-df-convert:hover {\n",
              "      background-color: #E2EBFA;\n",
              "      box-shadow: 0px 1px 2px rgba(60, 64, 67, 0.3), 0px 1px 3px 1px rgba(60, 64, 67, 0.15);\n",
              "      fill: #174EA6;\n",
              "    }\n",
              "\n",
              "    .colab-df-buttons div {\n",
              "      margin-bottom: 4px;\n",
              "    }\n",
              "\n",
              "    [theme=dark] .colab-df-convert {\n",
              "      background-color: #3B4455;\n",
              "      fill: #D2E3FC;\n",
              "    }\n",
              "\n",
              "    [theme=dark] .colab-df-convert:hover {\n",
              "      background-color: #434B5C;\n",
              "      box-shadow: 0px 1px 3px 1px rgba(0, 0, 0, 0.15);\n",
              "      filter: drop-shadow(0px 1px 2px rgba(0, 0, 0, 0.3));\n",
              "      fill: #FFFFFF;\n",
              "    }\n",
              "  </style>\n",
              "\n",
              "    <script>\n",
              "      const buttonEl =\n",
              "        document.querySelector('#df-3aa16ac8-12bf-4b69-a026-6cfb02a57b15 button.colab-df-convert');\n",
              "      buttonEl.style.display =\n",
              "        google.colab.kernel.accessAllowed ? 'block' : 'none';\n",
              "\n",
              "      async function convertToInteractive(key) {\n",
              "        const element = document.querySelector('#df-3aa16ac8-12bf-4b69-a026-6cfb02a57b15');\n",
              "        const dataTable =\n",
              "          await google.colab.kernel.invokeFunction('convertToInteractive',\n",
              "                                                    [key], {});\n",
              "        if (!dataTable) return;\n",
              "\n",
              "        const docLinkHtml = 'Like what you see? Visit the ' +\n",
              "          '<a target=\"_blank\" href=https://colab.research.google.com/notebooks/data_table.ipynb>data table notebook</a>'\n",
              "          + ' to learn more about interactive tables.';\n",
              "        element.innerHTML = '';\n",
              "        dataTable['output_type'] = 'display_data';\n",
              "        await google.colab.output.renderOutput(dataTable, element);\n",
              "        const docLink = document.createElement('div');\n",
              "        docLink.innerHTML = docLinkHtml;\n",
              "        element.appendChild(docLink);\n",
              "      }\n",
              "    </script>\n",
              "  </div>\n",
              "\n",
              "\n",
              "<div id=\"df-62238604-e763-4ec7-b92d-6427e9de78f2\">\n",
              "  <button class=\"colab-df-quickchart\" onclick=\"quickchart('df-62238604-e763-4ec7-b92d-6427e9de78f2')\"\n",
              "            title=\"Suggest charts\"\n",
              "            style=\"display:none;\">\n",
              "\n",
              "<svg xmlns=\"http://www.w3.org/2000/svg\" height=\"24px\"viewBox=\"0 0 24 24\"\n",
              "     width=\"24px\">\n",
              "    <g>\n",
              "        <path d=\"M19 3H5c-1.1 0-2 .9-2 2v14c0 1.1.9 2 2 2h14c1.1 0 2-.9 2-2V5c0-1.1-.9-2-2-2zM9 17H7v-7h2v7zm4 0h-2V7h2v10zm4 0h-2v-4h2v4z\"/>\n",
              "    </g>\n",
              "</svg>\n",
              "  </button>\n",
              "\n",
              "<style>\n",
              "  .colab-df-quickchart {\n",
              "      --bg-color: #E8F0FE;\n",
              "      --fill-color: #1967D2;\n",
              "      --hover-bg-color: #E2EBFA;\n",
              "      --hover-fill-color: #174EA6;\n",
              "      --disabled-fill-color: #AAA;\n",
              "      --disabled-bg-color: #DDD;\n",
              "  }\n",
              "\n",
              "  [theme=dark] .colab-df-quickchart {\n",
              "      --bg-color: #3B4455;\n",
              "      --fill-color: #D2E3FC;\n",
              "      --hover-bg-color: #434B5C;\n",
              "      --hover-fill-color: #FFFFFF;\n",
              "      --disabled-bg-color: #3B4455;\n",
              "      --disabled-fill-color: #666;\n",
              "  }\n",
              "\n",
              "  .colab-df-quickchart {\n",
              "    background-color: var(--bg-color);\n",
              "    border: none;\n",
              "    border-radius: 50%;\n",
              "    cursor: pointer;\n",
              "    display: none;\n",
              "    fill: var(--fill-color);\n",
              "    height: 32px;\n",
              "    padding: 0;\n",
              "    width: 32px;\n",
              "  }\n",
              "\n",
              "  .colab-df-quickchart:hover {\n",
              "    background-color: var(--hover-bg-color);\n",
              "    box-shadow: 0 1px 2px rgba(60, 64, 67, 0.3), 0 1px 3px 1px rgba(60, 64, 67, 0.15);\n",
              "    fill: var(--button-hover-fill-color);\n",
              "  }\n",
              "\n",
              "  .colab-df-quickchart-complete:disabled,\n",
              "  .colab-df-quickchart-complete:disabled:hover {\n",
              "    background-color: var(--disabled-bg-color);\n",
              "    fill: var(--disabled-fill-color);\n",
              "    box-shadow: none;\n",
              "  }\n",
              "\n",
              "  .colab-df-spinner {\n",
              "    border: 2px solid var(--fill-color);\n",
              "    border-color: transparent;\n",
              "    border-bottom-color: var(--fill-color);\n",
              "    animation:\n",
              "      spin 1s steps(1) infinite;\n",
              "  }\n",
              "\n",
              "  @keyframes spin {\n",
              "    0% {\n",
              "      border-color: transparent;\n",
              "      border-bottom-color: var(--fill-color);\n",
              "      border-left-color: var(--fill-color);\n",
              "    }\n",
              "    20% {\n",
              "      border-color: transparent;\n",
              "      border-left-color: var(--fill-color);\n",
              "      border-top-color: var(--fill-color);\n",
              "    }\n",
              "    30% {\n",
              "      border-color: transparent;\n",
              "      border-left-color: var(--fill-color);\n",
              "      border-top-color: var(--fill-color);\n",
              "      border-right-color: var(--fill-color);\n",
              "    }\n",
              "    40% {\n",
              "      border-color: transparent;\n",
              "      border-right-color: var(--fill-color);\n",
              "      border-top-color: var(--fill-color);\n",
              "    }\n",
              "    60% {\n",
              "      border-color: transparent;\n",
              "      border-right-color: var(--fill-color);\n",
              "    }\n",
              "    80% {\n",
              "      border-color: transparent;\n",
              "      border-right-color: var(--fill-color);\n",
              "      border-bottom-color: var(--fill-color);\n",
              "    }\n",
              "    90% {\n",
              "      border-color: transparent;\n",
              "      border-bottom-color: var(--fill-color);\n",
              "    }\n",
              "  }\n",
              "</style>\n",
              "\n",
              "  <script>\n",
              "    async function quickchart(key) {\n",
              "      const quickchartButtonEl =\n",
              "        document.querySelector('#' + key + ' button');\n",
              "      quickchartButtonEl.disabled = true;  // To prevent multiple clicks.\n",
              "      quickchartButtonEl.classList.add('colab-df-spinner');\n",
              "      try {\n",
              "        const charts = await google.colab.kernel.invokeFunction(\n",
              "            'suggestCharts', [key], {});\n",
              "      } catch (error) {\n",
              "        console.error('Error during call to suggestCharts:', error);\n",
              "      }\n",
              "      quickchartButtonEl.classList.remove('colab-df-spinner');\n",
              "      quickchartButtonEl.classList.add('colab-df-quickchart-complete');\n",
              "    }\n",
              "    (() => {\n",
              "      let quickchartButtonEl =\n",
              "        document.querySelector('#df-62238604-e763-4ec7-b92d-6427e9de78f2 button');\n",
              "      quickchartButtonEl.style.display =\n",
              "        google.colab.kernel.accessAllowed ? 'block' : 'none';\n",
              "    })();\n",
              "  </script>\n",
              "</div>\n",
              "    </div>\n",
              "  </div>\n"
            ],
            "application/vnd.google.colaboratory.intrinsic+json": {
              "type": "dataframe",
              "variable_name": "data",
              "summary": "{\n  \"name\": \"data\",\n  \"rows\": 1728,\n  \"fields\": [\n    {\n      \"column\": \"buying\",\n      \"properties\": {\n        \"dtype\": \"category\",\n        \"num_unique_values\": 4,\n        \"samples\": [\n          \"high\",\n          \"low\",\n          \"vhigh\"\n        ],\n        \"semantic_type\": \"\",\n        \"description\": \"\"\n      }\n    },\n    {\n      \"column\": \"maint\",\n      \"properties\": {\n        \"dtype\": \"category\",\n        \"num_unique_values\": 4,\n        \"samples\": [\n          \"high\",\n          \"low\",\n          \"vhigh\"\n        ],\n        \"semantic_type\": \"\",\n        \"description\": \"\"\n      }\n    },\n    {\n      \"column\": \"lug_boot\",\n      \"properties\": {\n        \"dtype\": \"category\",\n        \"num_unique_values\": 3,\n        \"samples\": [\n          \"small\",\n          \"med\",\n          \"big\"\n        ],\n        \"semantic_type\": \"\",\n        \"description\": \"\"\n      }\n    },\n    {\n      \"column\": \"safety\",\n      \"properties\": {\n        \"dtype\": \"category\",\n        \"num_unique_values\": 3,\n        \"samples\": [\n          \"low\",\n          \"med\",\n          \"high\"\n        ],\n        \"semantic_type\": \"\",\n        \"description\": \"\"\n      }\n    },\n    {\n      \"column\": \"class\",\n      \"properties\": {\n        \"dtype\": \"category\",\n        \"num_unique_values\": 4,\n        \"samples\": [\n          \"acc\",\n          \"good\",\n          \"unacc\"\n        ],\n        \"semantic_type\": \"\",\n        \"description\": \"\"\n      }\n    }\n  ]\n}"
            }
          },
          "metadata": {},
          "execution_count": 29
        }
      ]
    },
    {
      "cell_type": "markdown",
      "metadata": {
        "id": "lfi1uHIxPdDe"
      },
      "source": [
        "## 2) Membagi data menjadi data latih dan data uji\n",
        "\n",
        "Metode pembelajaran mesin memerlukan dua jenis data :\n",
        "\n",
        "\n",
        "1.   Data latih : Digunakan untuk proses training metode klasifikasi\n",
        "2.   Data uji : Digunakan untuk proses evaluasi metode klasifikasi\n",
        "\n",
        "Data uji dan data latih perlu dibuat terpisah (mutualy exclusive) agar hasil evaluasi lebih akurat.\n",
        "\n",
        "Data uji dan data latih dapat dibuat dengan cara membagi dataset dengan rasio tertentu, misalnya 80% data latih dan 20% data uji.\n",
        "\n",
        "Library Scikit-learn memiliki fungsi [train_test_split](https://scikit-learn.org/stable/modules/generated/sklearn.model_selection.train_test_split.html) pada modul **model_selection** untuk membagi dataset menjadi data latih dan data uji. Bagilah dataset anda menjadi dua, yaitu **data_latih** dan **data_uji**. Agar pengacakan data dilakukan secara konstan, parameter **random_state** diisi dengan nilai integer tertentu, pada praktikum ini diset 101. Kemudian, nilai indeks pada data latih dan data uji diatur ulang agar berurutan nilainya\n"
      ]
    },
    {
      "cell_type": "code",
      "metadata": {
        "id": "jJjfXgfmPTlU",
        "colab": {
          "base_uri": "https://localhost:8080/",
          "height": 423
        },
        "outputId": "bffb91ce-44c6-43c4-bc82-4e4058611f5b"
      },
      "source": [
        "from sklearn.model_selection import train_test_split\n",
        "data_latih,data_uji = train_test_split(data,test_size=0.2,random_state=101)\n",
        "data_latih.reset_index(drop=True)\n",
        "data_uji.reset_index(drop=True)"
      ],
      "execution_count": 30,
      "outputs": [
        {
          "output_type": "execute_result",
          "data": {
            "text/plain": [
              "    buying  maint lug_boot safety  class\n",
              "0    vhigh   high      med    med  unacc\n",
              "1      low    med    small   high  unacc\n",
              "2    vhigh    low      big    med  unacc\n",
              "3      low  vhigh    small    med  unacc\n",
              "4      med    low    small    low  unacc\n",
              "..     ...    ...      ...    ...    ...\n",
              "341   high    med      med    med  unacc\n",
              "342    low    med      big    med   good\n",
              "343  vhigh  vhigh      big    med  unacc\n",
              "344  vhigh    low      med    low  unacc\n",
              "345  vhigh    low      med    med    acc\n",
              "\n",
              "[346 rows x 5 columns]"
            ],
            "text/html": [
              "\n",
              "  <div id=\"df-38e66abe-5baa-4b36-b1b9-160f4d8f5a0a\" class=\"colab-df-container\">\n",
              "    <div>\n",
              "<style scoped>\n",
              "    .dataframe tbody tr th:only-of-type {\n",
              "        vertical-align: middle;\n",
              "    }\n",
              "\n",
              "    .dataframe tbody tr th {\n",
              "        vertical-align: top;\n",
              "    }\n",
              "\n",
              "    .dataframe thead th {\n",
              "        text-align: right;\n",
              "    }\n",
              "</style>\n",
              "<table border=\"1\" class=\"dataframe\">\n",
              "  <thead>\n",
              "    <tr style=\"text-align: right;\">\n",
              "      <th></th>\n",
              "      <th>buying</th>\n",
              "      <th>maint</th>\n",
              "      <th>lug_boot</th>\n",
              "      <th>safety</th>\n",
              "      <th>class</th>\n",
              "    </tr>\n",
              "  </thead>\n",
              "  <tbody>\n",
              "    <tr>\n",
              "      <th>0</th>\n",
              "      <td>vhigh</td>\n",
              "      <td>high</td>\n",
              "      <td>med</td>\n",
              "      <td>med</td>\n",
              "      <td>unacc</td>\n",
              "    </tr>\n",
              "    <tr>\n",
              "      <th>1</th>\n",
              "      <td>low</td>\n",
              "      <td>med</td>\n",
              "      <td>small</td>\n",
              "      <td>high</td>\n",
              "      <td>unacc</td>\n",
              "    </tr>\n",
              "    <tr>\n",
              "      <th>2</th>\n",
              "      <td>vhigh</td>\n",
              "      <td>low</td>\n",
              "      <td>big</td>\n",
              "      <td>med</td>\n",
              "      <td>unacc</td>\n",
              "    </tr>\n",
              "    <tr>\n",
              "      <th>3</th>\n",
              "      <td>low</td>\n",
              "      <td>vhigh</td>\n",
              "      <td>small</td>\n",
              "      <td>med</td>\n",
              "      <td>unacc</td>\n",
              "    </tr>\n",
              "    <tr>\n",
              "      <th>4</th>\n",
              "      <td>med</td>\n",
              "      <td>low</td>\n",
              "      <td>small</td>\n",
              "      <td>low</td>\n",
              "      <td>unacc</td>\n",
              "    </tr>\n",
              "    <tr>\n",
              "      <th>...</th>\n",
              "      <td>...</td>\n",
              "      <td>...</td>\n",
              "      <td>...</td>\n",
              "      <td>...</td>\n",
              "      <td>...</td>\n",
              "    </tr>\n",
              "    <tr>\n",
              "      <th>341</th>\n",
              "      <td>high</td>\n",
              "      <td>med</td>\n",
              "      <td>med</td>\n",
              "      <td>med</td>\n",
              "      <td>unacc</td>\n",
              "    </tr>\n",
              "    <tr>\n",
              "      <th>342</th>\n",
              "      <td>low</td>\n",
              "      <td>med</td>\n",
              "      <td>big</td>\n",
              "      <td>med</td>\n",
              "      <td>good</td>\n",
              "    </tr>\n",
              "    <tr>\n",
              "      <th>343</th>\n",
              "      <td>vhigh</td>\n",
              "      <td>vhigh</td>\n",
              "      <td>big</td>\n",
              "      <td>med</td>\n",
              "      <td>unacc</td>\n",
              "    </tr>\n",
              "    <tr>\n",
              "      <th>344</th>\n",
              "      <td>vhigh</td>\n",
              "      <td>low</td>\n",
              "      <td>med</td>\n",
              "      <td>low</td>\n",
              "      <td>unacc</td>\n",
              "    </tr>\n",
              "    <tr>\n",
              "      <th>345</th>\n",
              "      <td>vhigh</td>\n",
              "      <td>low</td>\n",
              "      <td>med</td>\n",
              "      <td>med</td>\n",
              "      <td>acc</td>\n",
              "    </tr>\n",
              "  </tbody>\n",
              "</table>\n",
              "<p>346 rows × 5 columns</p>\n",
              "</div>\n",
              "    <div class=\"colab-df-buttons\">\n",
              "\n",
              "  <div class=\"colab-df-container\">\n",
              "    <button class=\"colab-df-convert\" onclick=\"convertToInteractive('df-38e66abe-5baa-4b36-b1b9-160f4d8f5a0a')\"\n",
              "            title=\"Convert this dataframe to an interactive table.\"\n",
              "            style=\"display:none;\">\n",
              "\n",
              "  <svg xmlns=\"http://www.w3.org/2000/svg\" height=\"24px\" viewBox=\"0 -960 960 960\">\n",
              "    <path d=\"M120-120v-720h720v720H120Zm60-500h600v-160H180v160Zm220 220h160v-160H400v160Zm0 220h160v-160H400v160ZM180-400h160v-160H180v160Zm440 0h160v-160H620v160ZM180-180h160v-160H180v160Zm440 0h160v-160H620v160Z\"/>\n",
              "  </svg>\n",
              "    </button>\n",
              "\n",
              "  <style>\n",
              "    .colab-df-container {\n",
              "      display:flex;\n",
              "      gap: 12px;\n",
              "    }\n",
              "\n",
              "    .colab-df-convert {\n",
              "      background-color: #E8F0FE;\n",
              "      border: none;\n",
              "      border-radius: 50%;\n",
              "      cursor: pointer;\n",
              "      display: none;\n",
              "      fill: #1967D2;\n",
              "      height: 32px;\n",
              "      padding: 0 0 0 0;\n",
              "      width: 32px;\n",
              "    }\n",
              "\n",
              "    .colab-df-convert:hover {\n",
              "      background-color: #E2EBFA;\n",
              "      box-shadow: 0px 1px 2px rgba(60, 64, 67, 0.3), 0px 1px 3px 1px rgba(60, 64, 67, 0.15);\n",
              "      fill: #174EA6;\n",
              "    }\n",
              "\n",
              "    .colab-df-buttons div {\n",
              "      margin-bottom: 4px;\n",
              "    }\n",
              "\n",
              "    [theme=dark] .colab-df-convert {\n",
              "      background-color: #3B4455;\n",
              "      fill: #D2E3FC;\n",
              "    }\n",
              "\n",
              "    [theme=dark] .colab-df-convert:hover {\n",
              "      background-color: #434B5C;\n",
              "      box-shadow: 0px 1px 3px 1px rgba(0, 0, 0, 0.15);\n",
              "      filter: drop-shadow(0px 1px 2px rgba(0, 0, 0, 0.3));\n",
              "      fill: #FFFFFF;\n",
              "    }\n",
              "  </style>\n",
              "\n",
              "    <script>\n",
              "      const buttonEl =\n",
              "        document.querySelector('#df-38e66abe-5baa-4b36-b1b9-160f4d8f5a0a button.colab-df-convert');\n",
              "      buttonEl.style.display =\n",
              "        google.colab.kernel.accessAllowed ? 'block' : 'none';\n",
              "\n",
              "      async function convertToInteractive(key) {\n",
              "        const element = document.querySelector('#df-38e66abe-5baa-4b36-b1b9-160f4d8f5a0a');\n",
              "        const dataTable =\n",
              "          await google.colab.kernel.invokeFunction('convertToInteractive',\n",
              "                                                    [key], {});\n",
              "        if (!dataTable) return;\n",
              "\n",
              "        const docLinkHtml = 'Like what you see? Visit the ' +\n",
              "          '<a target=\"_blank\" href=https://colab.research.google.com/notebooks/data_table.ipynb>data table notebook</a>'\n",
              "          + ' to learn more about interactive tables.';\n",
              "        element.innerHTML = '';\n",
              "        dataTable['output_type'] = 'display_data';\n",
              "        await google.colab.output.renderOutput(dataTable, element);\n",
              "        const docLink = document.createElement('div');\n",
              "        docLink.innerHTML = docLinkHtml;\n",
              "        element.appendChild(docLink);\n",
              "      }\n",
              "    </script>\n",
              "  </div>\n",
              "\n",
              "\n",
              "<div id=\"df-b0cfc975-ed5f-4e43-93fd-30e53857a10d\">\n",
              "  <button class=\"colab-df-quickchart\" onclick=\"quickchart('df-b0cfc975-ed5f-4e43-93fd-30e53857a10d')\"\n",
              "            title=\"Suggest charts\"\n",
              "            style=\"display:none;\">\n",
              "\n",
              "<svg xmlns=\"http://www.w3.org/2000/svg\" height=\"24px\"viewBox=\"0 0 24 24\"\n",
              "     width=\"24px\">\n",
              "    <g>\n",
              "        <path d=\"M19 3H5c-1.1 0-2 .9-2 2v14c0 1.1.9 2 2 2h14c1.1 0 2-.9 2-2V5c0-1.1-.9-2-2-2zM9 17H7v-7h2v7zm4 0h-2V7h2v10zm4 0h-2v-4h2v4z\"/>\n",
              "    </g>\n",
              "</svg>\n",
              "  </button>\n",
              "\n",
              "<style>\n",
              "  .colab-df-quickchart {\n",
              "      --bg-color: #E8F0FE;\n",
              "      --fill-color: #1967D2;\n",
              "      --hover-bg-color: #E2EBFA;\n",
              "      --hover-fill-color: #174EA6;\n",
              "      --disabled-fill-color: #AAA;\n",
              "      --disabled-bg-color: #DDD;\n",
              "  }\n",
              "\n",
              "  [theme=dark] .colab-df-quickchart {\n",
              "      --bg-color: #3B4455;\n",
              "      --fill-color: #D2E3FC;\n",
              "      --hover-bg-color: #434B5C;\n",
              "      --hover-fill-color: #FFFFFF;\n",
              "      --disabled-bg-color: #3B4455;\n",
              "      --disabled-fill-color: #666;\n",
              "  }\n",
              "\n",
              "  .colab-df-quickchart {\n",
              "    background-color: var(--bg-color);\n",
              "    border: none;\n",
              "    border-radius: 50%;\n",
              "    cursor: pointer;\n",
              "    display: none;\n",
              "    fill: var(--fill-color);\n",
              "    height: 32px;\n",
              "    padding: 0;\n",
              "    width: 32px;\n",
              "  }\n",
              "\n",
              "  .colab-df-quickchart:hover {\n",
              "    background-color: var(--hover-bg-color);\n",
              "    box-shadow: 0 1px 2px rgba(60, 64, 67, 0.3), 0 1px 3px 1px rgba(60, 64, 67, 0.15);\n",
              "    fill: var(--button-hover-fill-color);\n",
              "  }\n",
              "\n",
              "  .colab-df-quickchart-complete:disabled,\n",
              "  .colab-df-quickchart-complete:disabled:hover {\n",
              "    background-color: var(--disabled-bg-color);\n",
              "    fill: var(--disabled-fill-color);\n",
              "    box-shadow: none;\n",
              "  }\n",
              "\n",
              "  .colab-df-spinner {\n",
              "    border: 2px solid var(--fill-color);\n",
              "    border-color: transparent;\n",
              "    border-bottom-color: var(--fill-color);\n",
              "    animation:\n",
              "      spin 1s steps(1) infinite;\n",
              "  }\n",
              "\n",
              "  @keyframes spin {\n",
              "    0% {\n",
              "      border-color: transparent;\n",
              "      border-bottom-color: var(--fill-color);\n",
              "      border-left-color: var(--fill-color);\n",
              "    }\n",
              "    20% {\n",
              "      border-color: transparent;\n",
              "      border-left-color: var(--fill-color);\n",
              "      border-top-color: var(--fill-color);\n",
              "    }\n",
              "    30% {\n",
              "      border-color: transparent;\n",
              "      border-left-color: var(--fill-color);\n",
              "      border-top-color: var(--fill-color);\n",
              "      border-right-color: var(--fill-color);\n",
              "    }\n",
              "    40% {\n",
              "      border-color: transparent;\n",
              "      border-right-color: var(--fill-color);\n",
              "      border-top-color: var(--fill-color);\n",
              "    }\n",
              "    60% {\n",
              "      border-color: transparent;\n",
              "      border-right-color: var(--fill-color);\n",
              "    }\n",
              "    80% {\n",
              "      border-color: transparent;\n",
              "      border-right-color: var(--fill-color);\n",
              "      border-bottom-color: var(--fill-color);\n",
              "    }\n",
              "    90% {\n",
              "      border-color: transparent;\n",
              "      border-bottom-color: var(--fill-color);\n",
              "    }\n",
              "  }\n",
              "</style>\n",
              "\n",
              "  <script>\n",
              "    async function quickchart(key) {\n",
              "      const quickchartButtonEl =\n",
              "        document.querySelector('#' + key + ' button');\n",
              "      quickchartButtonEl.disabled = true;  // To prevent multiple clicks.\n",
              "      quickchartButtonEl.classList.add('colab-df-spinner');\n",
              "      try {\n",
              "        const charts = await google.colab.kernel.invokeFunction(\n",
              "            'suggestCharts', [key], {});\n",
              "      } catch (error) {\n",
              "        console.error('Error during call to suggestCharts:', error);\n",
              "      }\n",
              "      quickchartButtonEl.classList.remove('colab-df-spinner');\n",
              "      quickchartButtonEl.classList.add('colab-df-quickchart-complete');\n",
              "    }\n",
              "    (() => {\n",
              "      let quickchartButtonEl =\n",
              "        document.querySelector('#df-b0cfc975-ed5f-4e43-93fd-30e53857a10d button');\n",
              "      quickchartButtonEl.style.display =\n",
              "        google.colab.kernel.accessAllowed ? 'block' : 'none';\n",
              "    })();\n",
              "  </script>\n",
              "</div>\n",
              "    </div>\n",
              "  </div>\n"
            ],
            "application/vnd.google.colaboratory.intrinsic+json": {
              "type": "dataframe",
              "summary": "{\n  \"name\": \"data_uji\",\n  \"rows\": 346,\n  \"fields\": [\n    {\n      \"column\": \"buying\",\n      \"properties\": {\n        \"dtype\": \"category\",\n        \"num_unique_values\": 4,\n        \"samples\": [\n          \"low\",\n          \"high\",\n          \"vhigh\"\n        ],\n        \"semantic_type\": \"\",\n        \"description\": \"\"\n      }\n    },\n    {\n      \"column\": \"maint\",\n      \"properties\": {\n        \"dtype\": \"category\",\n        \"num_unique_values\": 4,\n        \"samples\": [\n          \"med\",\n          \"vhigh\",\n          \"high\"\n        ],\n        \"semantic_type\": \"\",\n        \"description\": \"\"\n      }\n    },\n    {\n      \"column\": \"lug_boot\",\n      \"properties\": {\n        \"dtype\": \"category\",\n        \"num_unique_values\": 3,\n        \"samples\": [\n          \"med\",\n          \"small\",\n          \"big\"\n        ],\n        \"semantic_type\": \"\",\n        \"description\": \"\"\n      }\n    },\n    {\n      \"column\": \"safety\",\n      \"properties\": {\n        \"dtype\": \"category\",\n        \"num_unique_values\": 3,\n        \"samples\": [\n          \"med\",\n          \"high\",\n          \"low\"\n        ],\n        \"semantic_type\": \"\",\n        \"description\": \"\"\n      }\n    },\n    {\n      \"column\": \"class\",\n      \"properties\": {\n        \"dtype\": \"category\",\n        \"num_unique_values\": 4,\n        \"samples\": [\n          \"acc\",\n          \"good\",\n          \"unacc\"\n        ],\n        \"semantic_type\": \"\",\n        \"description\": \"\"\n      }\n    }\n  ]\n}"
            }
          },
          "metadata": {},
          "execution_count": 30
        }
      ]
    },
    {
      "cell_type": "markdown",
      "metadata": {
        "id": "tBhcsUDYfw2q"
      },
      "source": [
        "Tampilkan banyaknya data pada **data_latih** dan **data_uji**. Seharusnya **data_latih** terdiri dari 208 data, dan **data_uji** terdiri dari 52 data"
      ]
    },
    {
      "cell_type": "code",
      "metadata": {
        "id": "6OtySD4efmmQ",
        "colab": {
          "base_uri": "https://localhost:8080/"
        },
        "outputId": "ad0a28ca-200d-4834-ca40-a1d2d6024115"
      },
      "source": [
        "print(data_uji.shape[0])\n",
        "print(data_latih.shape[0])"
      ],
      "execution_count": 31,
      "outputs": [
        {
          "output_type": "stream",
          "name": "stdout",
          "text": [
            "346\n",
            "1382\n"
          ]
        }
      ]
    },
    {
      "cell_type": "markdown",
      "metadata": {
        "id": "xm_dJNeMgl9u"
      },
      "source": [
        "## 3) Menghitung Gini\n",
        "\n",
        "Nilai Gini merupakan salah satu kriteria penentu variabel apa yang akan digunakan untuk membentuk cabang pada decision tree. Variabel dengan nilai Gini terbesar akan digunakan sebagai pembentukan cabang\n",
        "\n",
        "Buatlah fungsi bernama **hitung_gini** yang berfungsi menghitung nilai Gini dari suatu nilai pada sebuah variabel"
      ]
    },
    {
      "cell_type": "code",
      "metadata": {
        "id": "QNEYOTLsfqld"
      },
      "source": [
        "def hitung_gini(kolom_kelas):\n",
        "    elemen,banyak = np.unique(kolom_kelas,return_counts=True)\n",
        "    nilai_gini = 1 - np.sum([(banyak[i]/np.sum(banyak))**2 for i in range(len(elemen))])\n",
        "    return nilai_gini"
      ],
      "execution_count": 32,
      "outputs": []
    },
    {
      "cell_type": "markdown",
      "metadata": {
        "id": "KaOXTHEmuNcL"
      },
      "source": [
        "Buatlah fungsi bernama **gini_split** yang digunakan untuk menghitung nilai Gini keseluruhan dari sebuah variabel."
      ]
    },
    {
      "cell_type": "code",
      "metadata": {
        "id": "Hxfrr832h61_"
      },
      "source": [
        "def gini_split(data,nama_fitur_split,nama_fitur_kelas):\n",
        "    nilai,banyak = np.unique(data[nama_fitur_split],return_counts=True)\n",
        "    gini_split = np.sum([(banyak[i]/np.sum(banyak))*hitung_gini(data.where(data[nama_fitur_split]==nilai[i]).dropna()[nama_fitur_kelas])for i in range(len(nilai))])\n",
        "    return gini_split"
      ],
      "execution_count": 33,
      "outputs": []
    },
    {
      "cell_type": "markdown",
      "metadata": {
        "id": "vF9NYqpVMHcc"
      },
      "source": [
        "Ujilah fungsi **gini_split** menggunakan data_latih pada variabel **buying** dan variabel kelas bernama **class**."
      ]
    },
    {
      "cell_type": "code",
      "metadata": {
        "id": "WZ60vxPEKOFv",
        "colab": {
          "base_uri": "https://localhost:8080/"
        },
        "outputId": "700f481c-4280-41b7-b980-d9886a01244a"
      },
      "source": [
        "gini_split(data_latih,\"buying\",\"class\")"
      ],
      "execution_count": 34,
      "outputs": [
        {
          "output_type": "execute_result",
          "data": {
            "text/plain": [
              "0.4498424838345615"
            ]
          },
          "metadata": {},
          "execution_count": 34
        }
      ]
    },
    {
      "cell_type": "markdown",
      "metadata": {
        "id": "46FZOwFIlkM_"
      },
      "source": [
        "## 4) Pembentukan pohon"
      ]
    },
    {
      "cell_type": "markdown",
      "metadata": {
        "id": "4wQfBDujvR_Z"
      },
      "source": [
        "Pembentukan pohon dilakukan secara rekursif. Seperti metode rekursif pada umumnya, perlu ditentukan kondisi berhenti terlebih dahulu. Kondisi berhenti pada pembentukan pohon adalah:\n",
        "\n",
        "\n",
        "1.   Jika hanya ada satu kelas pada data, kembalikan kelas tersebut\n",
        "2.   Jika fitur data  = 0 (tidak ada fitur yang tersisa), kembalikan kelas dari parent\n",
        "3. Jika data kosong (tidak ada data), kembalikan kelas dengan frekuensi terbanyak\n",
        "\n",
        "Selain kondisi berhenti tersebut, dilakukan pembentukan pohon secara rekursif menggunakan fungsi **buat_tree**.\n",
        "\n"
      ]
    },
    {
      "cell_type": "code",
      "metadata": {
        "id": "qFB6pLbeikcG"
      },
      "source": [
        "def buat_tree(data, data_awal, daftar_fitur, nama_fitur_kelas, kelas_parent_node=None):\n",
        "  #jika hanya ada satu kelas pada data\n",
        "  if len(np.unique(data[nama_fitur_kelas])) <= 1:\n",
        "    return np.unique(data[nama_fitur_kelas])[0]\n",
        "  #jika data kosong\n",
        "  elif len(data)==0:\n",
        "    return np.unique(data_awal[nama_fitur_kelas])[np.argmax(np.unique(data_awal[nama_fitur_kelas], return_counts=True)[1])]\n",
        "  #jika tidak ada fitur yang tersisa\n",
        "  elif len(daftar_fitur)==0:\n",
        "    return kelas_parent_node\n",
        "  else:\n",
        "    kelas_parent_node = np.unique(data[nama_fitur_kelas])[np.argmax(np.unique(data[nama_fitur_kelas], return_counts=True)[1])]\n",
        "    nilai_split = [gini_split(data, fitur, nama_fitur_kelas) for fitur in daftar_fitur]\n",
        "    index_fitur_terbaik = np.argmin(nilai_split)\n",
        "    fitur_terbaik = daftar_fitur[index_fitur_terbaik]\n",
        "    tree = {fitur_terbaik:{}}\n",
        "    daftar_fitur = [i for i in daftar_fitur if i != fitur_terbaik]\n",
        "    for nilai in np.unique(data[fitur_terbaik]):\n",
        "        sub_data = data.where(data[fitur_terbaik] == nilai).dropna()\n",
        "        subtree = buat_tree(sub_data, data_awal, daftar_fitur, nama_fitur_kelas, kelas_parent_node)\n",
        "        tree[fitur_terbaik][nilai]=subtree\n",
        "    return(tree)"
      ],
      "execution_count": 35,
      "outputs": []
    },
    {
      "cell_type": "markdown",
      "metadata": {
        "id": "GsqCB1ntU020"
      },
      "source": [
        "Buatlah tree menggunakan data latih yang tersedia"
      ]
    },
    {
      "cell_type": "code",
      "metadata": {
        "id": "Ca6NaY09SN-R"
      },
      "source": [
        "tree = buat_tree(data_latih,data_latih,data_latih.columns[:-1],'class')"
      ],
      "execution_count": 36,
      "outputs": []
    },
    {
      "cell_type": "markdown",
      "metadata": {
        "id": "evKQehVeU6YC"
      },
      "source": [
        "Tampilkan tree yang terbentuk. Gunakan library **pprint** untuk menampilkan dictionary secara teratur."
      ]
    },
    {
      "cell_type": "code",
      "metadata": {
        "id": "d8AMFsUoSsLt",
        "colab": {
          "base_uri": "https://localhost:8080/"
        },
        "outputId": "55d38d5e-05e9-40bc-a1be-357f013b9721"
      },
      "source": [
        "from pprint import pprint\n",
        "pprint(tree)"
      ],
      "execution_count": 37,
      "outputs": [
        {
          "output_type": "stream",
          "name": "stdout",
          "text": [
            "{'safety': {'high': {'buying': {'high': {'maint': {'high': {'lug_boot': {'big': 'acc',\n",
            "                                                                         'med': 'acc',\n",
            "                                                                         'small': 'acc'}},\n",
            "                                                   'low': {'lug_boot': {'big': 'acc',\n",
            "                                                                        'med': 'acc',\n",
            "                                                                        'small': 'acc'}},\n",
            "                                                   'med': {'lug_boot': {'big': 'acc',\n",
            "                                                                        'med': 'acc',\n",
            "                                                                        'small': 'acc'}},\n",
            "                                                   'vhigh': 'unacc'}},\n",
            "                                'low': {'maint': {'high': {'lug_boot': {'big': 'unacc',\n",
            "                                                                        'med': 'unacc',\n",
            "                                                                        'small': 'unacc'}},\n",
            "                                                  'low': {'lug_boot': {'big': 'unacc',\n",
            "                                                                       'med': 'unacc',\n",
            "                                                                       'small': 'unacc'}},\n",
            "                                                  'med': {'lug_boot': {'big': 'vgood',\n",
            "                                                                       'med': 'vgood',\n",
            "                                                                       'small': 'vgood'}},\n",
            "                                                  'vhigh': {'lug_boot': {'big': 'acc',\n",
            "                                                                         'med': 'acc',\n",
            "                                                                         'small': 'acc'}}}},\n",
            "                                'med': {'maint': {'high': {'lug_boot': {'big': 'acc',\n",
            "                                                                        'med': 'acc',\n",
            "                                                                        'small': 'acc'}},\n",
            "                                                  'low': {'lug_boot': {'big': 'good',\n",
            "                                                                       'med': 'good',\n",
            "                                                                       'small': 'good'}},\n",
            "                                                  'med': {'lug_boot': {'big': 'vgood',\n",
            "                                                                       'med': 'vgood',\n",
            "                                                                       'small': 'vgood'}},\n",
            "                                                  'vhigh': {'lug_boot': {'big': 'acc',\n",
            "                                                                         'med': 'acc',\n",
            "                                                                         'small': 'acc'}}}},\n",
            "                                'vhigh': {'maint': {'high': 'unacc',\n",
            "                                                    'low': {'lug_boot': {'big': 'acc',\n",
            "                                                                         'med': 'acc',\n",
            "                                                                         'small': 'acc'}},\n",
            "                                                    'med': {'lug_boot': {'big': 'acc',\n",
            "                                                                         'med': 'acc',\n",
            "                                                                         'small': 'acc'}},\n",
            "                                                    'vhigh': 'unacc'}}}},\n",
            "            'low': 'unacc',\n",
            "            'med': {'buying': {'high': {'lug_boot': {'big': {'maint': {'high': 'acc',\n",
            "                                                                       'low': 'acc',\n",
            "                                                                       'med': 'acc',\n",
            "                                                                       'vhigh': 'unacc'}},\n",
            "                                                     'med': {'maint': {'high': 'unacc',\n",
            "                                                                       'low': 'unacc',\n",
            "                                                                       'med': 'unacc',\n",
            "                                                                       'vhigh': 'unacc'}},\n",
            "                                                     'small': 'unacc'}},\n",
            "                               'low': {'maint': {'high': {'lug_boot': {'big': 'acc',\n",
            "                                                                       'med': 'acc',\n",
            "                                                                       'small': 'acc'}},\n",
            "                                                 'low': {'lug_boot': {'big': 'good',\n",
            "                                                                      'med': 'good',\n",
            "                                                                      'small': 'good'}},\n",
            "                                                 'med': {'lug_boot': {'big': 'unacc',\n",
            "                                                                      'med': 'unacc',\n",
            "                                                                      'small': 'unacc'}},\n",
            "                                                 'vhigh': {'lug_boot': {'big': 'unacc',\n",
            "                                                                        'med': 'unacc',\n",
            "                                                                        'small': 'unacc'}}}},\n",
            "                               'med': {'maint': {'high': {'lug_boot': {'big': 'unacc',\n",
            "                                                                       'med': 'unacc',\n",
            "                                                                       'small': 'unacc'}},\n",
            "                                                 'low': {'lug_boot': {'big': 'unacc',\n",
            "                                                                      'med': 'unacc',\n",
            "                                                                      'small': 'unacc'}},\n",
            "                                                 'med': {'lug_boot': {'big': 'acc',\n",
            "                                                                      'med': 'acc',\n",
            "                                                                      'small': 'acc'}},\n",
            "                                                 'vhigh': {'lug_boot': {'big': 'unacc',\n",
            "                                                                        'med': 'unacc',\n",
            "                                                                        'small': 'unacc'}}}},\n",
            "                               'vhigh': {'maint': {'high': 'unacc',\n",
            "                                                   'low': {'lug_boot': {'big': 'unacc',\n",
            "                                                                        'med': 'unacc',\n",
            "                                                                        'small': 'unacc'}},\n",
            "                                                   'med': {'lug_boot': {'big': 'unacc',\n",
            "                                                                        'med': 'unacc',\n",
            "                                                                        'small': 'unacc'}},\n",
            "                                                   'vhigh': 'unacc'}}}}}}\n"
          ]
        }
      ]
    },
    {
      "cell_type": "markdown",
      "metadata": {
        "id": "mou0Bi1cyswK"
      },
      "source": [
        "## 5) Proses prediksi\n",
        "\n",
        "Proses prediksi kelas pada data uji dilakukan dengan melakukan *tree traversal* sampai menemui leaf."
      ]
    },
    {
      "cell_type": "code",
      "metadata": {
        "id": "fzvwAIBh8g2e"
      },
      "source": [
        "def prediksi(data_uji,tree):\n",
        "  for key in list(data_uji.keys()):\n",
        "    if key in list(tree.keys()):\n",
        "      try:\n",
        "        hasil = tree[key][data_uji[key]]\n",
        "      except:\n",
        "        return 1\n",
        "      hasil = tree[key][data_uji[key]]\n",
        "      if isinstance(hasil,dict):\n",
        "        return prediksi(data_uji,hasil)\n",
        "      else:\n",
        "        return hasil"
      ],
      "execution_count": 38,
      "outputs": []
    },
    {
      "cell_type": "markdown",
      "metadata": {
        "id": "BChrt6JtXCDP"
      },
      "source": [
        "## 6) Proses Pengujian\n",
        "Lakukan pengujian menggunakan data uji. Kelas pada data uji perlu dihapus dan data uji perlu diubah menjadi dictionary"
      ]
    },
    {
      "cell_type": "code",
      "metadata": {
        "id": "IwY0kpvDXXSx"
      },
      "source": [
        "data_uji_dict = data_uji.iloc[:,:-1].to_dict(orient = \"records\")"
      ],
      "execution_count": 39,
      "outputs": []
    },
    {
      "cell_type": "markdown",
      "metadata": {
        "id": "IbrQ119iRrJV"
      },
      "source": [
        "Lakukan pengujian terhadap keseluruhan data uji menggunakan looping."
      ]
    },
    {
      "cell_type": "code",
      "metadata": {
        "id": "s8AC5eKnYAnX"
      },
      "source": [
        "hasil_prediksi_total = []\n",
        "for i in range(len(data_uji_dict)):\n",
        "  hasil_prediksi = prediksi(data_uji_dict[i],tree)\n",
        "  hasil_prediksi_total.append(hasil_prediksi)"
      ],
      "execution_count": 40,
      "outputs": []
    },
    {
      "cell_type": "markdown",
      "metadata": {
        "id": "h7JhY6JXZRi6"
      },
      "source": [
        "Bandingkan hasil prediksi dengan label sebenarnya. Hitunglah banyaknya data uji yang memiliki kelas prediksi sama dengan kelas sebenarnya"
      ]
    },
    {
      "cell_type": "code",
      "metadata": {
        "id": "KZMRbhqwaCKd",
        "colab": {
          "base_uri": "https://localhost:8080/"
        },
        "outputId": "daea4738-9a4e-4fba-c69d-2b8a512bf485"
      },
      "source": [
        "print(\"Total prediksi benar: \",sum(hasil_prediksi_total==data_uji['class']))"
      ],
      "execution_count": 41,
      "outputs": [
        {
          "output_type": "stream",
          "name": "stdout",
          "text": [
            "Total prediksi benar:  251\n"
          ]
        }
      ]
    },
    {
      "cell_type": "markdown",
      "metadata": {
        "id": "ZiDmUxVBuo42"
      },
      "source": [
        "## TUGAS\n",
        "Pada tugas kali ini Anda diminta memodifikasi metode pembentukan tree yang telah Anda agar metode tersebut menggunakan information gain sebagai dasar percabangan. Lengkapilah kerangka source code di bawah ini"
      ]
    },
    {
      "cell_type": "markdown",
      "metadata": {
        "id": "IYMKi5wxVa2R"
      },
      "source": [
        "Lengkapi fungsi hitung_entropy"
      ]
    },
    {
      "cell_type": "code",
      "metadata": {
        "id": "qzcjfgqO_exR"
      },
      "source": [
        "def hitung_entropy(kolom_kelas):\n",
        "  #tuliskan kode Anda di sini\n",
        "  elemen, banyak = np.unique(kolom_kelas, return_counts=True)\n",
        "  proporsi_kelas = banyak/np.sum(banyak)\n",
        "  entropy = -np.sum(proporsi_kelas * np.log2(proporsi_kelas))\n",
        "  return entropy"
      ],
      "execution_count": 42,
      "outputs": []
    },
    {
      "cell_type": "markdown",
      "metadata": {
        "id": "JQPDwKvWVejo"
      },
      "source": [
        "Lengkapi fungsi information_gain"
      ]
    },
    {
      "cell_type": "code",
      "metadata": {
        "id": "nICq1Ce8TVXV"
      },
      "source": [
        "def information_gain(data, nama_fitur_split, nama_fitur_kelas):\n",
        "  #tuliskan kode Anda di sini\n",
        "  entropy_awal = hitung_entropy(data[nama_fitur_kelas])\n",
        "  nilai_fitur, banyak = np.unique(data[nama_fitur_split], return_counts=True)\n",
        "  entropy_split = np.sum([(banyak[i]/np.sum(banyak)) * hitung_entropy(data.where(data[nama_fitur_split]==nilai_fitur[i]).dropna()[nama_fitur_kelas]) for i in range(len(nilai_fitur))])\n",
        "  information_gain = entropy_awal - entropy_split\n",
        "  return information_gain"
      ],
      "execution_count": 43,
      "outputs": []
    },
    {
      "cell_type": "markdown",
      "metadata": {
        "id": "wRTzVLc4VnM6"
      },
      "source": [
        "Lengkapi fungsi **buat_tree_ig**. Isinya sama persis dengan fungsi **buat_tree**, hanya saja penghitungan **gini_split** diganti dengan **information_gain**. Selain itu, percabangan dilakukan dengan menggunakan nilai **information_gain** **terbesar**"
      ]
    },
    {
      "cell_type": "code",
      "metadata": {
        "id": "8EJBMOEJUfOV"
      },
      "source": [
        "def buat_tree_ig(data, data_awal, daftar_fitur, nama_fitur_kelas, kelas_parent_node=None):\n",
        "  #tuliskan kode Anda di sini\n",
        "  #jika hanya ada satu kelas pada data\n",
        "  if len(np.unique(data[nama_fitur_kelas])) <= 1:\n",
        "    return np.unique(data[nama_fitur_kelas])[0]\n",
        "  #jika data kosong\n",
        "  elif len(data)==0:\n",
        "    return np.unique(data_awal[nama_fitur_kelas])[np.argmax(np.unique(data_awal[nama_fitur_kelas], return_counts=True)[1])]\n",
        "  #jika tidak ada fitur yang tersisa\n",
        "  elif len(daftar_fitur)==0:\n",
        "    return kelas_parent_node\n",
        "  else:\n",
        "    kelas_parent_node = np.unique(data[nama_fitur_kelas])[np.argmax(np.unique(data[nama_fitur_kelas], return_counts=True)[1])]\n",
        "    nilai_ig = [information_gain(data, fitur, nama_fitur_kelas) for fitur in daftar_fitur]\n",
        "    index_fitur_terbaik = np.argmax(nilai_ig)\n",
        "    fitur_terbaik = daftar_fitur[index_fitur_terbaik]\n",
        "    tree = {fitur_terbaik:{}}\n",
        "    daftar_fitur = [i for i in daftar_fitur if i != fitur_terbaik]\n",
        "    for nilai in np.unique(data[fitur_terbaik]):\n",
        "        sub_data = data.where(data[fitur_terbaik] == nilai).dropna()\n",
        "        subtree = buat_tree_ig(sub_data, data_awal, daftar_fitur, nama_fitur_kelas, kelas_parent_node)\n",
        "        tree[fitur_terbaik][nilai]=subtree\n",
        "    return(tree)"
      ],
      "execution_count": 44,
      "outputs": []
    },
    {
      "cell_type": "markdown",
      "metadata": {
        "id": "CKVka-apV_0n"
      },
      "source": [
        "Lakukan pembentukan tree menggunakan fungsi **buat_tree_ig**"
      ]
    },
    {
      "cell_type": "code",
      "metadata": {
        "id": "5ax_yrUwUwo7"
      },
      "source": [
        "tree_ig = buat_tree_ig(data_latih,data_latih,data_latih.columns[:-1],'class')"
      ],
      "execution_count": 45,
      "outputs": []
    },
    {
      "cell_type": "markdown",
      "metadata": {
        "id": "YBqhseFmWLPq"
      },
      "source": [
        "Tampilkan tree yang terbentuk"
      ]
    },
    {
      "cell_type": "code",
      "metadata": {
        "id": "yt6_LzfIU9nR",
        "colab": {
          "base_uri": "https://localhost:8080/"
        },
        "outputId": "eeb7c9f4-ed79-49be-a6e2-ab998d50dec2"
      },
      "source": [
        "pprint(tree_ig)"
      ],
      "execution_count": 46,
      "outputs": [
        {
          "output_type": "stream",
          "name": "stdout",
          "text": [
            "{'safety': {'high': {'buying': {'high': {'maint': {'high': {'lug_boot': {'big': 'acc',\n",
            "                                                                         'med': 'acc',\n",
            "                                                                         'small': 'acc'}},\n",
            "                                                   'low': {'lug_boot': {'big': 'acc',\n",
            "                                                                        'med': 'acc',\n",
            "                                                                        'small': 'acc'}},\n",
            "                                                   'med': {'lug_boot': {'big': 'acc',\n",
            "                                                                        'med': 'acc',\n",
            "                                                                        'small': 'acc'}},\n",
            "                                                   'vhigh': 'unacc'}},\n",
            "                                'low': {'maint': {'high': {'lug_boot': {'big': 'unacc',\n",
            "                                                                        'med': 'unacc',\n",
            "                                                                        'small': 'unacc'}},\n",
            "                                                  'low': {'lug_boot': {'big': 'unacc',\n",
            "                                                                       'med': 'unacc',\n",
            "                                                                       'small': 'unacc'}},\n",
            "                                                  'med': {'lug_boot': {'big': 'vgood',\n",
            "                                                                       'med': 'vgood',\n",
            "                                                                       'small': 'vgood'}},\n",
            "                                                  'vhigh': {'lug_boot': {'big': 'acc',\n",
            "                                                                         'med': 'acc',\n",
            "                                                                         'small': 'acc'}}}},\n",
            "                                'med': {'maint': {'high': {'lug_boot': {'big': 'acc',\n",
            "                                                                        'med': 'acc',\n",
            "                                                                        'small': 'acc'}},\n",
            "                                                  'low': {'lug_boot': {'big': 'good',\n",
            "                                                                       'med': 'good',\n",
            "                                                                       'small': 'good'}},\n",
            "                                                  'med': {'lug_boot': {'big': 'vgood',\n",
            "                                                                       'med': 'vgood',\n",
            "                                                                       'small': 'vgood'}},\n",
            "                                                  'vhigh': {'lug_boot': {'big': 'acc',\n",
            "                                                                         'med': 'acc',\n",
            "                                                                         'small': 'acc'}}}},\n",
            "                                'vhigh': {'maint': {'high': 'unacc',\n",
            "                                                    'low': {'lug_boot': {'big': 'acc',\n",
            "                                                                         'med': 'acc',\n",
            "                                                                         'small': 'acc'}},\n",
            "                                                    'med': {'lug_boot': {'big': 'acc',\n",
            "                                                                         'med': 'acc',\n",
            "                                                                         'small': 'acc'}},\n",
            "                                                    'vhigh': 'unacc'}}}},\n",
            "            'low': 'unacc',\n",
            "            'med': {'buying': {'high': {'lug_boot': {'big': {'maint': {'high': 'acc',\n",
            "                                                                       'low': 'acc',\n",
            "                                                                       'med': 'acc',\n",
            "                                                                       'vhigh': 'unacc'}},\n",
            "                                                     'med': {'maint': {'high': 'unacc',\n",
            "                                                                       'low': 'unacc',\n",
            "                                                                       'med': 'unacc',\n",
            "                                                                       'vhigh': 'unacc'}},\n",
            "                                                     'small': 'unacc'}},\n",
            "                               'low': {'maint': {'high': {'lug_boot': {'big': 'acc',\n",
            "                                                                       'med': 'acc',\n",
            "                                                                       'small': 'acc'}},\n",
            "                                                 'low': {'lug_boot': {'big': 'good',\n",
            "                                                                      'med': 'good',\n",
            "                                                                      'small': 'good'}},\n",
            "                                                 'med': {'lug_boot': {'big': 'unacc',\n",
            "                                                                      'med': 'unacc',\n",
            "                                                                      'small': 'unacc'}},\n",
            "                                                 'vhigh': {'lug_boot': {'big': 'unacc',\n",
            "                                                                        'med': 'unacc',\n",
            "                                                                        'small': 'unacc'}}}},\n",
            "                               'med': {'maint': {'high': {'lug_boot': {'big': 'unacc',\n",
            "                                                                       'med': 'unacc',\n",
            "                                                                       'small': 'unacc'}},\n",
            "                                                 'low': {'lug_boot': {'big': 'unacc',\n",
            "                                                                      'med': 'unacc',\n",
            "                                                                      'small': 'unacc'}},\n",
            "                                                 'med': {'lug_boot': {'big': 'acc',\n",
            "                                                                      'med': 'acc',\n",
            "                                                                      'small': 'acc'}},\n",
            "                                                 'vhigh': {'lug_boot': {'big': 'unacc',\n",
            "                                                                        'med': 'unacc',\n",
            "                                                                        'small': 'unacc'}}}},\n",
            "                               'vhigh': {'maint': {'high': 'unacc',\n",
            "                                                   'low': {'lug_boot': {'big': 'unacc',\n",
            "                                                                        'med': 'unacc',\n",
            "                                                                        'small': 'unacc'}},\n",
            "                                                   'med': {'lug_boot': {'big': 'unacc',\n",
            "                                                                        'med': 'unacc',\n",
            "                                                                        'small': 'unacc'}},\n",
            "                                                   'vhigh': 'unacc'}}}}}}\n"
          ]
        }
      ]
    },
    {
      "cell_type": "markdown",
      "metadata": {
        "id": "5x-TO_QCWRiX"
      },
      "source": [
        "Lakukan pengujian menggunakan tree yang terbentuk"
      ]
    },
    {
      "cell_type": "code",
      "metadata": {
        "id": "Jx0mcASEVIMZ",
        "colab": {
          "base_uri": "https://localhost:8080/"
        },
        "outputId": "cc6ff4cf-0fda-42f1-9d28-2f3598984a3f"
      },
      "source": [
        "hasil_prediksi_total_ig = []\n",
        "for i in range(len(data_uji_dict)):\n",
        "  hasil_prediksi = prediksi(data_uji_dict[i],tree_ig)\n",
        "  hasil_prediksi_total_ig.append(hasil_prediksi)\n",
        "print(\"Total prediksi benar: \",sum(hasil_prediksi_total_ig==data_uji['class']))"
      ],
      "execution_count": 47,
      "outputs": [
        {
          "output_type": "stream",
          "name": "stdout",
          "text": [
            "Total prediksi benar:  251\n"
          ]
        }
      ]
    },
    {
      "cell_type": "markdown",
      "metadata": {
        "id": "PcWNZAZJW53r"
      },
      "source": [
        "# PERTANYAAN\n",
        "\n",
        "Jawablah pertanyaan di bawah ini"
      ]
    },
    {
      "cell_type": "markdown",
      "metadata": {
        "id": "S0cHXissXCO7"
      },
      "source": [
        "\n",
        "\n",
        "1.   Amati tree yang dihasilkan dengan kriteria percabangan GINI dan Information Gain. Apa perbedaan tree yang dihasilkan dari kedua metode tersebut?\n",
        "2.   Apakah penggunaan Information Gain dapat meningkatkan akurasi prediksi?\n",
        "\n"
      ]
    },
    {
      "cell_type": "markdown",
      "metadata": {
        "id": "wQSW_Ix3XaNT"
      },
      "source": [
        "Tulis jawaban Anda di cell ini\n",
        "\n",
        "\n",
        "1. Dari hasil yang diperoleh, dapat dilihat bahwa tidak terdapat perbedaan antara struktur tree yang dihasilkan dari kriteria percabangan GINI dan Information Gain, dan prediksi yang dihasilkan juga sama.\n",
        "\n",
        "2. Ya, penggunaan information gain dapat meningkatkan akurasi prediksi dalam beberapa kasus. Information gain dapat membantu untuk memilih fitur yang paling membedakan antara kelas yang berbeda, sehingga meningkatkan akurasi klasifikasi.\n",
        "Namun, penggunaan information gain tidaklah selalu menjamin peningkatan akurasi prediksi. Hal ini bergantung pada kompleksitas masalah dan kualitas data yang digunakan. Dalam kasus tugas kali ini hasil akurasi prediksinya adalah sama.\n",
        "\n"
      ]
    }
  ]
}