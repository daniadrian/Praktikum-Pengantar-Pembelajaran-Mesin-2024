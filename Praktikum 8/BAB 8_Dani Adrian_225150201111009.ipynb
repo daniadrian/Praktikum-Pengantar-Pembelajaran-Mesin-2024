{
  "nbformat": 4,
  "nbformat_minor": 0,
  "metadata": {
    "colab": {
      "provenance": []
    },
    "kernelspec": {
      "name": "python3",
      "display_name": "Python 3"
    }
  },
  "cells": [
    {
      "cell_type": "markdown",
      "metadata": {
        "id": "P7RmZQKprgfO"
      },
      "source": [
        "#PRAKTIKUM 8\n",
        "# Evaluasi Beberapa Algoritma Klasifikasi\n",
        "\n",
        "Tujuan :\n",
        "Setelah mengikuti praktikum ini diharapkan praktikan dapat:\n",
        "1.   Memahami evaluasi beberapa metrik untuk mengukur kinerja klasifikasi\n",
        "2.   Mahasiswa dapat memahami confusion matrix dan peranannya untuk evaluasi klasifikasi\n",
        "3. Memahami dan mampu menggunakan evaluasi K-fold\n",
        "\n",
        "\n",
        "\n",
        "\n",
        "\n",
        "\n"
      ]
    },
    {
      "cell_type": "markdown",
      "source": [
        "Nama  : Dani Adrian\n",
        "\n",
        "NIM   : 225150201111009\n",
        "\n",
        "Kelas : PPM-E"
      ],
      "metadata": {
        "id": "Y5Qi_ek3DyXN"
      }
    },
    {
      "cell_type": "markdown",
      "metadata": {
        "id": "FX1p8Xbx8Yv5"
      },
      "source": [
        "##Dasar Teori\n",
        "\n",
        "Validasi klasifikasi\n",
        "\n",
        "Metode klasifikasi dibangun untuk dapat belajar dan diharapkan dapat membuat prediksi atau keputusan suatu data baru berdasarkan data yang sudah ada. Proses pembelajaran terhadap dataset yang sudah ada untuk mendapatkan model. Selanjutnya suatu data baru yang belum teridentifikasi dapat ditentukan label atau kelasnya berdasarkan model yang telah dibangun.\n",
        "\n",
        "Proses pembelajaran yang dibangun terhadap suatu dataset dilakukan dengan cara membagi suatu data menjadi dua bagian yakni sebagian digunakan sebagai data pelatihan dan sebagian lainnya sebagai data validasi. Besaran jumlah masing-masing data pelatihan dan data validasi dapat ditentukan (50%,50%) atau (75%,25%).\n",
        "\n",
        "Tahap selanjutnya data pelatihan akan digunakan untuk membangun model dengan menentukan parameter terbaik dari masing-masing model berdasarkan dataset yang ada. Kinerja terbaik dari suatu model yang dikembangkan diukur menggunakan beberap tolok ukur sebagai berikut:\n",
        "- presision\n",
        "- recall\n",
        "- specifity\n",
        "- akurasi\n",
        "Masing-masing metrik tersebut ditentukan berdasarkan confusion matrix.\n",
        "\n"
      ]
    },
    {
      "cell_type": "markdown",
      "metadata": {
        "id": "TSu6d8upINkt"
      },
      "source": [
        "Confusion matrix atau matriks kesalahan adalah suatu tabel yang merepresentasikan kinerja suatu algoritma. Setiap baris matriks mewakili instance di kelas yang diprediksi sementara setiap kolom mewakili instance di kelas yang sebenarnya (atau sebaliknya)."
      ]
    },
    {
      "cell_type": "markdown",
      "metadata": {
        "id": "3c_3sew8Ce6H"
      },
      "source": [
        "#Beberapa Tahapan Dalam Valisasi Klasifikasi\n"
      ]
    },
    {
      "cell_type": "markdown",
      "metadata": {
        "id": "Bt2hr4trsybn"
      },
      "source": [
        "Beberapa metode klasifikasi yang telah dipelajari mempunyai kelebihan dan kekurangannya. Perbandingan kinerja antar metode klasifikasi ini diukur menggunakan beberapa metrik. Pada praktikum ini akan dibahas beberapa metrik untuk mengukur kinerja klasifikasi.\n",
        "Tahapan untuk mengevaluasi suatu metode klasifikasi dilakukan sebagai berikut:\n",
        "- Pisahkan set data validasi.\n",
        "- Siapkan test harness untuk menggunakan validasi silang 10 kali lipat.\n",
        "- Buat beberapa model berbeda untuk memprediksi variety dari pengukuran bunga.\n",
        "- Pilih model terbaik."
      ]
    },
    {
      "cell_type": "markdown",
      "metadata": {
        "id": "-2Uoog7OKOkd"
      },
      "source": [
        "##1. Tentukan Metode Klasifikasi yang Akan Dievaluasi"
      ]
    },
    {
      "cell_type": "code",
      "metadata": {
        "id": "rxRlnHZN0sMb"
      },
      "source": [
        "from sklearn.neighbors import KNeighborsClassifier\n",
        "from sklearn.naive_bayes import GaussianNB\n",
        "from sklearn.svm import SVC\n",
        "\n",
        "models = []\n",
        "models.append(('KNN', KNeighborsClassifier()))\n",
        "models.append(('NB', GaussianNB()))\n",
        "models.append(('SVM', SVC(gamma='auto')))"
      ],
      "execution_count": 4,
      "outputs": []
    },
    {
      "cell_type": "code",
      "metadata": {
        "id": "EGKHlfLN0b5t"
      },
      "source": [
        "# evaluate each model in turn\n",
        "results = []\n",
        "names = []"
      ],
      "execution_count": 5,
      "outputs": []
    },
    {
      "cell_type": "markdown",
      "metadata": {
        "id": "Bs-7MUEl9bMn"
      },
      "source": [
        "##2. Baca Dataset\n",
        "Pada contoh ini terdapat tiga buah dataset yakni :\n",
        "- dataR2\n",
        "- iris data\n",
        "- breast cancer\n",
        "\n",
        "Kita akan gunakan dataR2 sebagai contoh sedangkan dua data berikutnya akan digunakan sabagai latihan."
      ]
    },
    {
      "cell_type": "code",
      "metadata": {
        "id": "uAvuCaOzRUOZ",
        "colab": {
          "base_uri": "https://localhost:8080/"
        },
        "outputId": "223e4265-f76b-4dd3-f808-09d8b88468a6"
      },
      "source": [
        "! wget https://archive.ics.uci.edu/ml/machine-learning-databases/00451/dataR2.csv"
      ],
      "execution_count": 6,
      "outputs": [
        {
          "output_type": "stream",
          "name": "stdout",
          "text": [
            "--2024-05-23 06:02:10--  https://archive.ics.uci.edu/ml/machine-learning-databases/00451/dataR2.csv\n",
            "Resolving archive.ics.uci.edu (archive.ics.uci.edu)... 128.195.10.252\n",
            "Connecting to archive.ics.uci.edu (archive.ics.uci.edu)|128.195.10.252|:443... connected.\n",
            "HTTP request sent, awaiting response... 200 OK\n",
            "Length: unspecified\n",
            "Saving to: ‘dataR2.csv’\n",
            "\n",
            "dataR2.csv              [ <=>                ]   7.49K  --.-KB/s    in 0s      \n",
            "\n",
            "2024-05-23 06:02:10 (75.5 MB/s) - ‘dataR2.csv’ saved [7665]\n",
            "\n"
          ]
        }
      ]
    },
    {
      "cell_type": "code",
      "metadata": {
        "id": "RgTbN5WlRan_",
        "colab": {
          "base_uri": "https://localhost:8080/"
        },
        "outputId": "59521c9c-f07c-4ba0-d88b-7b5e836a3f9a"
      },
      "source": [
        "! wget https://gist.githubusercontent.com/netj/8836201/raw/6f9306ad21398ea43cba4f7d537619d0e07d5ae3/iris.csv"
      ],
      "execution_count": 7,
      "outputs": [
        {
          "output_type": "stream",
          "name": "stdout",
          "text": [
            "--2024-05-23 06:02:10--  https://gist.githubusercontent.com/netj/8836201/raw/6f9306ad21398ea43cba4f7d537619d0e07d5ae3/iris.csv\n",
            "Resolving gist.githubusercontent.com (gist.githubusercontent.com)... 185.199.108.133, 185.199.109.133, 185.199.110.133, ...\n",
            "Connecting to gist.githubusercontent.com (gist.githubusercontent.com)|185.199.108.133|:443... connected.\n",
            "HTTP request sent, awaiting response... 200 OK\n",
            "Length: 3975 (3.9K) [text/plain]\n",
            "Saving to: ‘iris.csv’\n",
            "\n",
            "\riris.csv              0%[                    ]       0  --.-KB/s               \riris.csv            100%[===================>]   3.88K  --.-KB/s    in 0s      \n",
            "\n",
            "2024-05-23 06:02:10 (16.8 MB/s) - ‘iris.csv’ saved [3975/3975]\n",
            "\n"
          ]
        }
      ]
    },
    {
      "cell_type": "code",
      "metadata": {
        "id": "YgsmeeTIRhgA",
        "colab": {
          "base_uri": "https://localhost:8080/"
        },
        "outputId": "4cd54441-dc54-48b5-e883-2e480ede9cff"
      },
      "source": [
        "! wget https://raw.githubusercontent.com/frnkldgnwn/utp-ppm/main/breast_cancer.csv"
      ],
      "execution_count": 8,
      "outputs": [
        {
          "output_type": "stream",
          "name": "stdout",
          "text": [
            "--2024-05-23 06:02:10--  https://raw.githubusercontent.com/frnkldgnwn/utp-ppm/main/breast_cancer.csv\n",
            "Resolving raw.githubusercontent.com (raw.githubusercontent.com)... 185.199.108.133, 185.199.109.133, 185.199.111.133, ...\n",
            "Connecting to raw.githubusercontent.com (raw.githubusercontent.com)|185.199.108.133|:443... connected.\n",
            "HTTP request sent, awaiting response... 200 OK\n",
            "Length: 3664 (3.6K) [text/plain]\n",
            "Saving to: ‘breast_cancer.csv’\n",
            "\n",
            "\rbreast_cancer.csv     0%[                    ]       0  --.-KB/s               \rbreast_cancer.csv   100%[===================>]   3.58K  --.-KB/s    in 0s      \n",
            "\n",
            "2024-05-23 06:02:10 (50.6 MB/s) - ‘breast_cancer.csv’ saved [3664/3664]\n",
            "\n"
          ]
        }
      ]
    },
    {
      "cell_type": "markdown",
      "source": [
        "##3. Tampilkan Dataset"
      ],
      "metadata": {
        "id": "MlR3iI2Ixpen"
      }
    },
    {
      "cell_type": "code",
      "source": [
        "import pandas as pd\n",
        "import numpy as np\n",
        "dataset = pd.read_csv('dataR2.csv')\n",
        "dataset"
      ],
      "metadata": {
        "id": "TjTa4xC0xvOu",
        "colab": {
          "base_uri": "https://localhost:8080/",
          "height": 423
        },
        "outputId": "1e6d8e51-8580-4a26-951c-1df4f0a3df29"
      },
      "execution_count": 9,
      "outputs": [
        {
          "output_type": "execute_result",
          "data": {
            "text/plain": [
              "     Age        BMI  Glucose  Insulin      HOMA   Leptin  Adiponectin  \\\n",
              "0     48  23.500000       70    2.707  0.467409   8.8071     9.702400   \n",
              "1     83  20.690495       92    3.115  0.706897   8.8438     5.429285   \n",
              "2     82  23.124670       91    4.498  1.009651  17.9393    22.432040   \n",
              "3     68  21.367521       77    3.226  0.612725   9.8827     7.169560   \n",
              "4     86  21.111111       92    3.549  0.805386   6.6994     4.819240   \n",
              "..   ...        ...      ...      ...       ...      ...          ...   \n",
              "111   45  26.850000       92    3.330  0.755688  54.6800    12.100000   \n",
              "112   62  26.840000      100    4.530  1.117400  12.4500    21.420000   \n",
              "113   65  32.050000       97    5.730  1.370998  61.4800    22.540000   \n",
              "114   72  25.590000       82    2.820  0.570392  24.9600    33.750000   \n",
              "115   86  27.180000      138   19.910  6.777364  90.2800    14.110000   \n",
              "\n",
              "     Resistin    MCP.1  Classification  \n",
              "0     7.99585  417.114               1  \n",
              "1     4.06405  468.786               1  \n",
              "2     9.27715  554.697               1  \n",
              "3    12.76600  928.220               1  \n",
              "4    10.57635  773.920               1  \n",
              "..        ...      ...             ...  \n",
              "111  10.96000  268.230               2  \n",
              "112   7.32000  330.160               2  \n",
              "113  10.33000  314.050               2  \n",
              "114   3.27000  392.460               2  \n",
              "115   4.35000   90.090               2  \n",
              "\n",
              "[116 rows x 10 columns]"
            ],
            "text/html": [
              "\n",
              "  <div id=\"df-19008668-f4a8-456a-9a30-947e73aada24\" class=\"colab-df-container\">\n",
              "    <div>\n",
              "<style scoped>\n",
              "    .dataframe tbody tr th:only-of-type {\n",
              "        vertical-align: middle;\n",
              "    }\n",
              "\n",
              "    .dataframe tbody tr th {\n",
              "        vertical-align: top;\n",
              "    }\n",
              "\n",
              "    .dataframe thead th {\n",
              "        text-align: right;\n",
              "    }\n",
              "</style>\n",
              "<table border=\"1\" class=\"dataframe\">\n",
              "  <thead>\n",
              "    <tr style=\"text-align: right;\">\n",
              "      <th></th>\n",
              "      <th>Age</th>\n",
              "      <th>BMI</th>\n",
              "      <th>Glucose</th>\n",
              "      <th>Insulin</th>\n",
              "      <th>HOMA</th>\n",
              "      <th>Leptin</th>\n",
              "      <th>Adiponectin</th>\n",
              "      <th>Resistin</th>\n",
              "      <th>MCP.1</th>\n",
              "      <th>Classification</th>\n",
              "    </tr>\n",
              "  </thead>\n",
              "  <tbody>\n",
              "    <tr>\n",
              "      <th>0</th>\n",
              "      <td>48</td>\n",
              "      <td>23.500000</td>\n",
              "      <td>70</td>\n",
              "      <td>2.707</td>\n",
              "      <td>0.467409</td>\n",
              "      <td>8.8071</td>\n",
              "      <td>9.702400</td>\n",
              "      <td>7.99585</td>\n",
              "      <td>417.114</td>\n",
              "      <td>1</td>\n",
              "    </tr>\n",
              "    <tr>\n",
              "      <th>1</th>\n",
              "      <td>83</td>\n",
              "      <td>20.690495</td>\n",
              "      <td>92</td>\n",
              "      <td>3.115</td>\n",
              "      <td>0.706897</td>\n",
              "      <td>8.8438</td>\n",
              "      <td>5.429285</td>\n",
              "      <td>4.06405</td>\n",
              "      <td>468.786</td>\n",
              "      <td>1</td>\n",
              "    </tr>\n",
              "    <tr>\n",
              "      <th>2</th>\n",
              "      <td>82</td>\n",
              "      <td>23.124670</td>\n",
              "      <td>91</td>\n",
              "      <td>4.498</td>\n",
              "      <td>1.009651</td>\n",
              "      <td>17.9393</td>\n",
              "      <td>22.432040</td>\n",
              "      <td>9.27715</td>\n",
              "      <td>554.697</td>\n",
              "      <td>1</td>\n",
              "    </tr>\n",
              "    <tr>\n",
              "      <th>3</th>\n",
              "      <td>68</td>\n",
              "      <td>21.367521</td>\n",
              "      <td>77</td>\n",
              "      <td>3.226</td>\n",
              "      <td>0.612725</td>\n",
              "      <td>9.8827</td>\n",
              "      <td>7.169560</td>\n",
              "      <td>12.76600</td>\n",
              "      <td>928.220</td>\n",
              "      <td>1</td>\n",
              "    </tr>\n",
              "    <tr>\n",
              "      <th>4</th>\n",
              "      <td>86</td>\n",
              "      <td>21.111111</td>\n",
              "      <td>92</td>\n",
              "      <td>3.549</td>\n",
              "      <td>0.805386</td>\n",
              "      <td>6.6994</td>\n",
              "      <td>4.819240</td>\n",
              "      <td>10.57635</td>\n",
              "      <td>773.920</td>\n",
              "      <td>1</td>\n",
              "    </tr>\n",
              "    <tr>\n",
              "      <th>...</th>\n",
              "      <td>...</td>\n",
              "      <td>...</td>\n",
              "      <td>...</td>\n",
              "      <td>...</td>\n",
              "      <td>...</td>\n",
              "      <td>...</td>\n",
              "      <td>...</td>\n",
              "      <td>...</td>\n",
              "      <td>...</td>\n",
              "      <td>...</td>\n",
              "    </tr>\n",
              "    <tr>\n",
              "      <th>111</th>\n",
              "      <td>45</td>\n",
              "      <td>26.850000</td>\n",
              "      <td>92</td>\n",
              "      <td>3.330</td>\n",
              "      <td>0.755688</td>\n",
              "      <td>54.6800</td>\n",
              "      <td>12.100000</td>\n",
              "      <td>10.96000</td>\n",
              "      <td>268.230</td>\n",
              "      <td>2</td>\n",
              "    </tr>\n",
              "    <tr>\n",
              "      <th>112</th>\n",
              "      <td>62</td>\n",
              "      <td>26.840000</td>\n",
              "      <td>100</td>\n",
              "      <td>4.530</td>\n",
              "      <td>1.117400</td>\n",
              "      <td>12.4500</td>\n",
              "      <td>21.420000</td>\n",
              "      <td>7.32000</td>\n",
              "      <td>330.160</td>\n",
              "      <td>2</td>\n",
              "    </tr>\n",
              "    <tr>\n",
              "      <th>113</th>\n",
              "      <td>65</td>\n",
              "      <td>32.050000</td>\n",
              "      <td>97</td>\n",
              "      <td>5.730</td>\n",
              "      <td>1.370998</td>\n",
              "      <td>61.4800</td>\n",
              "      <td>22.540000</td>\n",
              "      <td>10.33000</td>\n",
              "      <td>314.050</td>\n",
              "      <td>2</td>\n",
              "    </tr>\n",
              "    <tr>\n",
              "      <th>114</th>\n",
              "      <td>72</td>\n",
              "      <td>25.590000</td>\n",
              "      <td>82</td>\n",
              "      <td>2.820</td>\n",
              "      <td>0.570392</td>\n",
              "      <td>24.9600</td>\n",
              "      <td>33.750000</td>\n",
              "      <td>3.27000</td>\n",
              "      <td>392.460</td>\n",
              "      <td>2</td>\n",
              "    </tr>\n",
              "    <tr>\n",
              "      <th>115</th>\n",
              "      <td>86</td>\n",
              "      <td>27.180000</td>\n",
              "      <td>138</td>\n",
              "      <td>19.910</td>\n",
              "      <td>6.777364</td>\n",
              "      <td>90.2800</td>\n",
              "      <td>14.110000</td>\n",
              "      <td>4.35000</td>\n",
              "      <td>90.090</td>\n",
              "      <td>2</td>\n",
              "    </tr>\n",
              "  </tbody>\n",
              "</table>\n",
              "<p>116 rows × 10 columns</p>\n",
              "</div>\n",
              "    <div class=\"colab-df-buttons\">\n",
              "\n",
              "  <div class=\"colab-df-container\">\n",
              "    <button class=\"colab-df-convert\" onclick=\"convertToInteractive('df-19008668-f4a8-456a-9a30-947e73aada24')\"\n",
              "            title=\"Convert this dataframe to an interactive table.\"\n",
              "            style=\"display:none;\">\n",
              "\n",
              "  <svg xmlns=\"http://www.w3.org/2000/svg\" height=\"24px\" viewBox=\"0 -960 960 960\">\n",
              "    <path d=\"M120-120v-720h720v720H120Zm60-500h600v-160H180v160Zm220 220h160v-160H400v160Zm0 220h160v-160H400v160ZM180-400h160v-160H180v160Zm440 0h160v-160H620v160ZM180-180h160v-160H180v160Zm440 0h160v-160H620v160Z\"/>\n",
              "  </svg>\n",
              "    </button>\n",
              "\n",
              "  <style>\n",
              "    .colab-df-container {\n",
              "      display:flex;\n",
              "      gap: 12px;\n",
              "    }\n",
              "\n",
              "    .colab-df-convert {\n",
              "      background-color: #E8F0FE;\n",
              "      border: none;\n",
              "      border-radius: 50%;\n",
              "      cursor: pointer;\n",
              "      display: none;\n",
              "      fill: #1967D2;\n",
              "      height: 32px;\n",
              "      padding: 0 0 0 0;\n",
              "      width: 32px;\n",
              "    }\n",
              "\n",
              "    .colab-df-convert:hover {\n",
              "      background-color: #E2EBFA;\n",
              "      box-shadow: 0px 1px 2px rgba(60, 64, 67, 0.3), 0px 1px 3px 1px rgba(60, 64, 67, 0.15);\n",
              "      fill: #174EA6;\n",
              "    }\n",
              "\n",
              "    .colab-df-buttons div {\n",
              "      margin-bottom: 4px;\n",
              "    }\n",
              "\n",
              "    [theme=dark] .colab-df-convert {\n",
              "      background-color: #3B4455;\n",
              "      fill: #D2E3FC;\n",
              "    }\n",
              "\n",
              "    [theme=dark] .colab-df-convert:hover {\n",
              "      background-color: #434B5C;\n",
              "      box-shadow: 0px 1px 3px 1px rgba(0, 0, 0, 0.15);\n",
              "      filter: drop-shadow(0px 1px 2px rgba(0, 0, 0, 0.3));\n",
              "      fill: #FFFFFF;\n",
              "    }\n",
              "  </style>\n",
              "\n",
              "    <script>\n",
              "      const buttonEl =\n",
              "        document.querySelector('#df-19008668-f4a8-456a-9a30-947e73aada24 button.colab-df-convert');\n",
              "      buttonEl.style.display =\n",
              "        google.colab.kernel.accessAllowed ? 'block' : 'none';\n",
              "\n",
              "      async function convertToInteractive(key) {\n",
              "        const element = document.querySelector('#df-19008668-f4a8-456a-9a30-947e73aada24');\n",
              "        const dataTable =\n",
              "          await google.colab.kernel.invokeFunction('convertToInteractive',\n",
              "                                                    [key], {});\n",
              "        if (!dataTable) return;\n",
              "\n",
              "        const docLinkHtml = 'Like what you see? Visit the ' +\n",
              "          '<a target=\"_blank\" href=https://colab.research.google.com/notebooks/data_table.ipynb>data table notebook</a>'\n",
              "          + ' to learn more about interactive tables.';\n",
              "        element.innerHTML = '';\n",
              "        dataTable['output_type'] = 'display_data';\n",
              "        await google.colab.output.renderOutput(dataTable, element);\n",
              "        const docLink = document.createElement('div');\n",
              "        docLink.innerHTML = docLinkHtml;\n",
              "        element.appendChild(docLink);\n",
              "      }\n",
              "    </script>\n",
              "  </div>\n",
              "\n",
              "\n",
              "<div id=\"df-7d4fb781-23c2-4fc3-a396-ed62638b37e3\">\n",
              "  <button class=\"colab-df-quickchart\" onclick=\"quickchart('df-7d4fb781-23c2-4fc3-a396-ed62638b37e3')\"\n",
              "            title=\"Suggest charts\"\n",
              "            style=\"display:none;\">\n",
              "\n",
              "<svg xmlns=\"http://www.w3.org/2000/svg\" height=\"24px\"viewBox=\"0 0 24 24\"\n",
              "     width=\"24px\">\n",
              "    <g>\n",
              "        <path d=\"M19 3H5c-1.1 0-2 .9-2 2v14c0 1.1.9 2 2 2h14c1.1 0 2-.9 2-2V5c0-1.1-.9-2-2-2zM9 17H7v-7h2v7zm4 0h-2V7h2v10zm4 0h-2v-4h2v4z\"/>\n",
              "    </g>\n",
              "</svg>\n",
              "  </button>\n",
              "\n",
              "<style>\n",
              "  .colab-df-quickchart {\n",
              "      --bg-color: #E8F0FE;\n",
              "      --fill-color: #1967D2;\n",
              "      --hover-bg-color: #E2EBFA;\n",
              "      --hover-fill-color: #174EA6;\n",
              "      --disabled-fill-color: #AAA;\n",
              "      --disabled-bg-color: #DDD;\n",
              "  }\n",
              "\n",
              "  [theme=dark] .colab-df-quickchart {\n",
              "      --bg-color: #3B4455;\n",
              "      --fill-color: #D2E3FC;\n",
              "      --hover-bg-color: #434B5C;\n",
              "      --hover-fill-color: #FFFFFF;\n",
              "      --disabled-bg-color: #3B4455;\n",
              "      --disabled-fill-color: #666;\n",
              "  }\n",
              "\n",
              "  .colab-df-quickchart {\n",
              "    background-color: var(--bg-color);\n",
              "    border: none;\n",
              "    border-radius: 50%;\n",
              "    cursor: pointer;\n",
              "    display: none;\n",
              "    fill: var(--fill-color);\n",
              "    height: 32px;\n",
              "    padding: 0;\n",
              "    width: 32px;\n",
              "  }\n",
              "\n",
              "  .colab-df-quickchart:hover {\n",
              "    background-color: var(--hover-bg-color);\n",
              "    box-shadow: 0 1px 2px rgba(60, 64, 67, 0.3), 0 1px 3px 1px rgba(60, 64, 67, 0.15);\n",
              "    fill: var(--button-hover-fill-color);\n",
              "  }\n",
              "\n",
              "  .colab-df-quickchart-complete:disabled,\n",
              "  .colab-df-quickchart-complete:disabled:hover {\n",
              "    background-color: var(--disabled-bg-color);\n",
              "    fill: var(--disabled-fill-color);\n",
              "    box-shadow: none;\n",
              "  }\n",
              "\n",
              "  .colab-df-spinner {\n",
              "    border: 2px solid var(--fill-color);\n",
              "    border-color: transparent;\n",
              "    border-bottom-color: var(--fill-color);\n",
              "    animation:\n",
              "      spin 1s steps(1) infinite;\n",
              "  }\n",
              "\n",
              "  @keyframes spin {\n",
              "    0% {\n",
              "      border-color: transparent;\n",
              "      border-bottom-color: var(--fill-color);\n",
              "      border-left-color: var(--fill-color);\n",
              "    }\n",
              "    20% {\n",
              "      border-color: transparent;\n",
              "      border-left-color: var(--fill-color);\n",
              "      border-top-color: var(--fill-color);\n",
              "    }\n",
              "    30% {\n",
              "      border-color: transparent;\n",
              "      border-left-color: var(--fill-color);\n",
              "      border-top-color: var(--fill-color);\n",
              "      border-right-color: var(--fill-color);\n",
              "    }\n",
              "    40% {\n",
              "      border-color: transparent;\n",
              "      border-right-color: var(--fill-color);\n",
              "      border-top-color: var(--fill-color);\n",
              "    }\n",
              "    60% {\n",
              "      border-color: transparent;\n",
              "      border-right-color: var(--fill-color);\n",
              "    }\n",
              "    80% {\n",
              "      border-color: transparent;\n",
              "      border-right-color: var(--fill-color);\n",
              "      border-bottom-color: var(--fill-color);\n",
              "    }\n",
              "    90% {\n",
              "      border-color: transparent;\n",
              "      border-bottom-color: var(--fill-color);\n",
              "    }\n",
              "  }\n",
              "</style>\n",
              "\n",
              "  <script>\n",
              "    async function quickchart(key) {\n",
              "      const quickchartButtonEl =\n",
              "        document.querySelector('#' + key + ' button');\n",
              "      quickchartButtonEl.disabled = true;  // To prevent multiple clicks.\n",
              "      quickchartButtonEl.classList.add('colab-df-spinner');\n",
              "      try {\n",
              "        const charts = await google.colab.kernel.invokeFunction(\n",
              "            'suggestCharts', [key], {});\n",
              "      } catch (error) {\n",
              "        console.error('Error during call to suggestCharts:', error);\n",
              "      }\n",
              "      quickchartButtonEl.classList.remove('colab-df-spinner');\n",
              "      quickchartButtonEl.classList.add('colab-df-quickchart-complete');\n",
              "    }\n",
              "    (() => {\n",
              "      let quickchartButtonEl =\n",
              "        document.querySelector('#df-7d4fb781-23c2-4fc3-a396-ed62638b37e3 button');\n",
              "      quickchartButtonEl.style.display =\n",
              "        google.colab.kernel.accessAllowed ? 'block' : 'none';\n",
              "    })();\n",
              "  </script>\n",
              "</div>\n",
              "    </div>\n",
              "  </div>\n"
            ],
            "application/vnd.google.colaboratory.intrinsic+json": {
              "type": "dataframe",
              "variable_name": "dataset",
              "summary": "{\n  \"name\": \"dataset\",\n  \"rows\": 116,\n  \"fields\": [\n    {\n      \"column\": \"Age\",\n      \"properties\": {\n        \"dtype\": \"number\",\n        \"std\": 16,\n        \"min\": 24,\n        \"max\": 89,\n        \"num_unique_values\": 51,\n        \"samples\": [\n          41,\n          46,\n          58\n        ],\n        \"semantic_type\": \"\",\n        \"description\": \"\"\n      }\n    },\n    {\n      \"column\": \"BMI\",\n      \"properties\": {\n        \"dtype\": \"number\",\n        \"std\": 5.020135768568435,\n        \"min\": 18.37,\n        \"max\": 38.57875854,\n        \"num_unique_values\": 110,\n        \"samples\": [\n          28.67262608,\n          21.47,\n          21.11111111\n        ],\n        \"semantic_type\": \"\",\n        \"description\": \"\"\n      }\n    },\n    {\n      \"column\": \"Glucose\",\n      \"properties\": {\n        \"dtype\": \"number\",\n        \"std\": 22,\n        \"min\": 60,\n        \"max\": 201,\n        \"num_unique_values\": 50,\n        \"samples\": [\n          85,\n          196,\n          74\n        ],\n        \"semantic_type\": \"\",\n        \"description\": \"\"\n      }\n    },\n    {\n      \"column\": \"Insulin\",\n      \"properties\": {\n        \"dtype\": \"number\",\n        \"std\": 10.067767636994,\n        \"min\": 2.432,\n        \"max\": 58.46,\n        \"num_unique_values\": 113,\n        \"samples\": [\n          9.669,\n          3.549,\n          14.07\n        ],\n        \"semantic_type\": \"\",\n        \"description\": \"\"\n      }\n    },\n    {\n      \"column\": \"HOMA\",\n      \"properties\": {\n        \"dtype\": \"number\",\n        \"std\": 3.6420431918896905,\n        \"min\": 0.467408667,\n        \"max\": 25.05034187,\n        \"num_unique_values\": 116,\n        \"samples\": [\n          2.871792,\n          0.8053864,\n          1.089637667\n        ],\n        \"semantic_type\": \"\",\n        \"description\": \"\"\n      }\n    },\n    {\n      \"column\": \"Leptin\",\n      \"properties\": {\n        \"dtype\": \"number\",\n        \"std\": 19.183294072269465,\n        \"min\": 4.311,\n        \"max\": 90.28,\n        \"num_unique_values\": 116,\n        \"samples\": [\n          19.0653,\n          6.6994,\n          10.39\n        ],\n        \"semantic_type\": \"\",\n        \"description\": \"\"\n      }\n    },\n    {\n      \"column\": \"Adiponectin\",\n      \"properties\": {\n        \"dtype\": \"number\",\n        \"std\": 6.843341448787965,\n        \"min\": 1.65602,\n        \"max\": 38.04,\n        \"num_unique_values\": 115,\n        \"samples\": [\n          21.57,\n          4.81924,\n          9.34663\n        ],\n        \"semantic_type\": \"\",\n        \"description\": \"\"\n      }\n    },\n    {\n      \"column\": \"Resistin\",\n      \"properties\": {\n        \"dtype\": \"number\",\n        \"std\": 12.390645677659528,\n        \"min\": 3.21,\n        \"max\": 82.1,\n        \"num_unique_values\": 116,\n        \"samples\": [\n          42.7447,\n          10.57635,\n          7.5767\n        ],\n        \"semantic_type\": \"\",\n        \"description\": \"\"\n      }\n    },\n    {\n      \"column\": \"MCP.1\",\n      \"properties\": {\n        \"dtype\": \"number\",\n        \"std\": 345.91266325599037,\n        \"min\": 45.843,\n        \"max\": 1698.44,\n        \"num_unique_values\": 113,\n        \"samples\": [\n          910.489,\n          773.92,\n          698.789\n        ],\n        \"semantic_type\": \"\",\n        \"description\": \"\"\n      }\n    },\n    {\n      \"column\": \"Classification\",\n      \"properties\": {\n        \"dtype\": \"number\",\n        \"std\": 0,\n        \"min\": 1,\n        \"max\": 2,\n        \"num_unique_values\": 2,\n        \"samples\": [\n          2,\n          1\n        ],\n        \"semantic_type\": \"\",\n        \"description\": \"\"\n      }\n    }\n  ]\n}"
            }
          },
          "metadata": {},
          "execution_count": 9
        }
      ]
    },
    {
      "cell_type": "markdown",
      "metadata": {
        "id": "w1wg061Ouq40"
      },
      "source": [
        "###3.1. Membuat Set Data Validasi\n",
        "Tujuan evaluasi adalah memperkirakan keakuratan model terbaik pada data tak terlihat dengan mengevaluasinya pada data tak terlihat aktual. Evaluasi ini dilakukan dengan cara membagi dataset menjadi dua bagian yakni sebagian digunakan sebagai data latih dan sebagian yang lain digunakan sebagai data uji. Beberapa praktikum sebelumnya telah dipraktekkan dengan menggunakan metode train_test_split:\n",
        "X_train, X_validation, y_train, y_validation = train_test_split(X, y, test_size=0.20, random_state=1, shuffle=True)\n"
      ]
    },
    {
      "cell_type": "markdown",
      "metadata": {
        "id": "XwRQora1Lpff"
      },
      "source": [
        "Sebelum membuat data latih dan data uji. Langkah pertama pisahkan antara data atribut dan data label suatu dataset. Karena dataset data2R terdiri dari 9 atribut dan 1 label.  Maka kita catat X sebagai data dan y sebagai label."
      ]
    },
    {
      "cell_type": "code",
      "metadata": {
        "id": "QGmCt0HB9mSa"
      },
      "source": [
        "from sklearn.model_selection import train_test_split\n",
        "array = dataset.values\n",
        "X = array[:,0:9]\n",
        "y = array[:,9]\n",
        "X_train, X_validation, y_train, y_validation = train_test_split(X, y, test_size=0.20, random_state=1, shuffle=True)"
      ],
      "execution_count": 10,
      "outputs": []
    },
    {
      "cell_type": "markdown",
      "metadata": {
        "id": "7cLFoO9oxPSu"
      },
      "source": [
        "###3.2 K-Fold Cross Validation\n",
        "K-Fold Cross Validation adalah prosedur pengambilan sampel ulang yang digunakan untuk mengevaluasi model pembelajaran mesin pada sampel data terbatas. Prosedur ini memiliki parameter tunggal yang disebut K yang mengacu pada jumlah grup yang akan dipecah menjadi sampel data tertentu. Karena itu, prosedur ini sering disebut K-fold cross validation. Ketika nilai spesifik untuk K dipilih, nilai tersebut dapat digunakan sebagai pengganti K dalam referensi ke model, seperti K = 10 menjadi validasi silang 10 kali lipat.\n",
        "\n",
        "Validasi silang terutama digunakan dalam pembelajaran mesin terapan untuk memperkirakan kemampuan model pembelajaran mesin pada data yang tidak terlihat. Yaitu, menggunakan sampel terbatas untuk memperkirakan bagaimana performa model secara umum saat digunakan untuk membuat prediksi pada data yang tidak digunakan selama pelatihan model.\n",
        "\n",
        "Prosedur umumnya adalah sebagai berikut:\n",
        "- Acak kumpulan data berdasarkan id\n",
        "- Pisahkan kumpulan data menjadi kelompok K\n",
        "- Untuk setiap grup unik:\n",
        "  - Ambil kelompok sebagai kelompok data uji\n",
        "  - Ambil kelompok yang tersisa sebagai kumpulan data pelatihan\n",
        "  - Catat hasil pengujian masing-masing grup\n",
        "\n",
        "K-fold ini digunakan untuk validasi model yang digunakan. Evaluasi dilakukan pada dataset latih. Pada praktikum ini digunakan k=10, berarti akan membagi dataset latih menjadi 10 bagian. Satu bagian digunakan untuk testing dan sisanya sebagai data latih."
      ]
    },
    {
      "cell_type": "code",
      "metadata": {
        "id": "r1UbgFye1De0",
        "colab": {
          "base_uri": "https://localhost:8080/"
        },
        "outputId": "dcecf372-1c6b-4479-ced6-52b062aee38b"
      },
      "source": [
        "from sklearn.model_selection import cross_val_score\n",
        "from sklearn.model_selection import StratifiedKFold\n",
        "for name, model in models:\n",
        "  kfold = StratifiedKFold(n_splits=10, random_state=1, shuffle=True)\n",
        "cv_results = cross_val_score(model, X_train, y_train, cv=kfold, scoring=\n",
        "'accuracy')\n",
        "results.append(cv_results)\n",
        "names.append(name)\n",
        "print('%s: %f (%f)' % (name, cv_results.mean(), cv_results.std()))"
      ],
      "execution_count": 13,
      "outputs": [
        {
          "output_type": "stream",
          "name": "stdout",
          "text": [
            "SVM: 0.465556 (0.047778)\n"
          ]
        }
      ]
    },
    {
      "cell_type": "markdown",
      "metadata": {
        "id": "VZTJYBp9O7xs"
      },
      "source": [
        "##4. Buat Prediksi\n",
        "\n",
        "Kita harus memilih algoritma yang akan digunakan untuk membuat prediksi."
      ]
    },
    {
      "cell_type": "markdown",
      "metadata": {
        "id": "lucaU3XRPLne"
      },
      "source": [
        "Kita dapat menyesuaikan model pada seluruh dataset pelatihan dan membuat prediksi pada dataset validasi."
      ]
    },
    {
      "cell_type": "code",
      "metadata": {
        "id": "BjTgqYkxPKxN"
      },
      "source": [
        "model = SVC(gamma='auto')\n",
        "model.fit(X_train, y_train)\n",
        "predictions = model.predict(X_validation)"
      ],
      "execution_count": 16,
      "outputs": []
    },
    {
      "cell_type": "markdown",
      "metadata": {
        "id": "TbrKl__SPg9s"
      },
      "source": [
        "##5. Evaluasi Prediksi\n",
        "Kita dapat mengevaluasi prediksi dengan membandingkannya dengan hasil yang diharapkan dalam set validasi, lalu menghitung akurasi klasifikasi, serta confusion matrix dan laporan klasifikasi."
      ]
    },
    {
      "cell_type": "code",
      "metadata": {
        "id": "F-X2NRZZEokv"
      },
      "source": [
        "from sklearn.datasets import make_classification\n",
        "X, y = make_classification(n_samples=1000, n_features=20, n_informative=15, n_redundant=5, random_state=1)"
      ],
      "execution_count": 17,
      "outputs": []
    },
    {
      "cell_type": "code",
      "metadata": {
        "id": "NONu67Vvq4QK",
        "colab": {
          "base_uri": "https://localhost:8080/"
        },
        "outputId": "ccad0a12-35ab-45fa-abb6-4a49f0ff4330"
      },
      "source": [
        "from sklearn.metrics import classification_report\n",
        "print(classification_report(y_validation, predictions))"
      ],
      "execution_count": 19,
      "outputs": [
        {
          "output_type": "stream",
          "name": "stdout",
          "text": [
            "              precision    recall  f1-score   support\n",
            "\n",
            "         1.0       0.25      1.00      0.40         6\n",
            "         2.0       0.00      0.00      0.00        18\n",
            "\n",
            "    accuracy                           0.25        24\n",
            "   macro avg       0.12      0.50      0.20        24\n",
            "weighted avg       0.06      0.25      0.10        24\n",
            "\n"
          ]
        },
        {
          "output_type": "stream",
          "name": "stderr",
          "text": [
            "/usr/local/lib/python3.10/dist-packages/sklearn/metrics/_classification.py:1344: UndefinedMetricWarning: Precision and F-score are ill-defined and being set to 0.0 in labels with no predicted samples. Use `zero_division` parameter to control this behavior.\n",
            "  _warn_prf(average, modifier, msg_start, len(result))\n",
            "/usr/local/lib/python3.10/dist-packages/sklearn/metrics/_classification.py:1344: UndefinedMetricWarning: Precision and F-score are ill-defined and being set to 0.0 in labels with no predicted samples. Use `zero_division` parameter to control this behavior.\n",
            "  _warn_prf(average, modifier, msg_start, len(result))\n",
            "/usr/local/lib/python3.10/dist-packages/sklearn/metrics/_classification.py:1344: UndefinedMetricWarning: Precision and F-score are ill-defined and being set to 0.0 in labels with no predicted samples. Use `zero_division` parameter to control this behavior.\n",
            "  _warn_prf(average, modifier, msg_start, len(result))\n"
          ]
        }
      ]
    },
    {
      "cell_type": "markdown",
      "metadata": {
        "id": "KgrrR61oPoU7"
      },
      "source": [
        "#Tugas :\n",
        "\n",
        "1. Lakukan perbandingan klasifikasi antara SVM, Naive Bayes, dan KNN untuk dataset iris dan breast cancer\n",
        "2. Pada kedua dataset lakukan proses normalisasi data dan preproses data untuk menangani data yang hilang jika ada.\n",
        "\n",
        "**Note: Tambahkan blok kode apabila diperlukan**"
      ]
    },
    {
      "cell_type": "markdown",
      "source": [
        "*Metode Normalisasi*"
      ],
      "metadata": {
        "id": "H09EgwHzIK8I"
      }
    },
    {
      "cell_type": "code",
      "source": [
        "def minmax(df_input):\n",
        "  list_fitur = df_input.columns[:-1]\n",
        "  for fitur in list_fitur:\n",
        "    max = df_input[fitur].max()\n",
        "    min = df_input[fitur].min()\n",
        "    df_input[fitur] = (df_input[fitur]-min)/(max-min)\n",
        "  return df_input"
      ],
      "metadata": {
        "id": "icvxMZ6TIR8t"
      },
      "execution_count": 20,
      "outputs": []
    },
    {
      "cell_type": "markdown",
      "source": [
        "*Metode Cetak Rentang*"
      ],
      "metadata": {
        "id": "4SJ2O9iTIY1U"
      }
    },
    {
      "cell_type": "code",
      "source": [
        "def cetak_rentang(df_input):\n",
        "  list_fitur = df_input.columns[:-1]\n",
        "  for fitur in list_fitur:\n",
        "    max = df_input[fitur].max()\n",
        "    min = df_input[fitur].min()\n",
        "    print(\"Rentang fitur \",fitur,\" adalah \",max-min)"
      ],
      "metadata": {
        "id": "tIqBz_HHIdby"
      },
      "execution_count": 22,
      "outputs": []
    },
    {
      "cell_type": "markdown",
      "source": [
        "*Metode Imputasi*"
      ],
      "metadata": {
        "id": "U_7iX8yaJi7E"
      }
    },
    {
      "cell_type": "code",
      "source": [
        "def imputasi(df_input):\n",
        "    list_columns = df_input.columns\n",
        "    class_column = list_columns[-1]\n",
        "    for column in list_columns[:-1]:\n",
        "        df_input[column].fillna(df_input.groupby(class_column)[column].transform('mean'), inplace=True)\n",
        "\n",
        "    return df_input"
      ],
      "metadata": {
        "id": "1wQxG828JmA9"
      },
      "execution_count": 23,
      "outputs": []
    },
    {
      "cell_type": "markdown",
      "source": [
        "###**Dataset Iris**"
      ],
      "metadata": {
        "id": "jUICWCJ9_NKK"
      }
    },
    {
      "cell_type": "code",
      "source": [
        "dataset_iris = pd.read_csv('iris.csv')"
      ],
      "metadata": {
        "id": "8P92DkXU-UNR"
      },
      "execution_count": 24,
      "outputs": []
    },
    {
      "cell_type": "code",
      "source": [
        "cetak_rentang(dataset_iris)"
      ],
      "metadata": {
        "id": "tjAZ_JdxJdQX",
        "colab": {
          "base_uri": "https://localhost:8080/"
        },
        "outputId": "67192de7-d438-4989-9fb3-1b4c4dcf187c"
      },
      "execution_count": 25,
      "outputs": [
        {
          "output_type": "stream",
          "name": "stdout",
          "text": [
            "Rentang fitur  sepal.length  adalah  3.6000000000000005\n",
            "Rentang fitur  sepal.width  adalah  2.4000000000000004\n",
            "Rentang fitur  petal.length  adalah  5.9\n",
            "Rentang fitur  petal.width  adalah  2.4\n"
          ]
        }
      ]
    },
    {
      "cell_type": "code",
      "source": [
        "data_normal=minmax(dataset_iris)"
      ],
      "metadata": {
        "id": "VMogQS0iJdjo"
      },
      "execution_count": 26,
      "outputs": []
    },
    {
      "cell_type": "code",
      "source": [
        "iris = data_normal.values\n",
        "Xi = iris[:,:-1]\n",
        "yi = iris[:,-1:]\n",
        "X_train, X_test, y_train, y_test = train_test_split(Xi, yi, test_size=0.2, random_state=42)"
      ],
      "metadata": {
        "id": "SJDxdgIiDdVC"
      },
      "execution_count": 30,
      "outputs": []
    },
    {
      "cell_type": "code",
      "source": [
        "print(X_train.shape[0])\n",
        "print(y_test.shape[0])"
      ],
      "metadata": {
        "colab": {
          "base_uri": "https://localhost:8080/"
        },
        "id": "xQRdlvpvDggq",
        "outputId": "96f26a59-8f40-47f4-e48b-c7e649542688"
      },
      "execution_count": 31,
      "outputs": [
        {
          "output_type": "stream",
          "name": "stdout",
          "text": [
            "120\n",
            "30\n"
          ]
        }
      ]
    },
    {
      "cell_type": "code",
      "source": [
        "# Prediksi KNN\n",
        "from sklearn.metrics import accuracy_score\n",
        "knn_model = KNeighborsClassifier()\n",
        "knn_model.fit(X_train, y_train)\n",
        "knn_preds = knn_model.predict(X_test)\n",
        "knn_accuracy = accuracy_score(y_test, knn_preds)\n",
        "print(knn_accuracy)"
      ],
      "metadata": {
        "id": "xztV0ZVVGSyK",
        "colab": {
          "base_uri": "https://localhost:8080/"
        },
        "outputId": "cc501c96-247d-4a26-cdee-61c497a00fb3"
      },
      "execution_count": 32,
      "outputs": [
        {
          "output_type": "stream",
          "name": "stdout",
          "text": [
            "1.0\n"
          ]
        },
        {
          "output_type": "stream",
          "name": "stderr",
          "text": [
            "/usr/local/lib/python3.10/dist-packages/sklearn/neighbors/_classification.py:215: DataConversionWarning: A column-vector y was passed when a 1d array was expected. Please change the shape of y to (n_samples,), for example using ravel().\n",
            "  return self._fit(X, y)\n"
          ]
        }
      ]
    },
    {
      "cell_type": "code",
      "source": [
        "# Prediksi Naive Bayes (NB)\n",
        "nb_model = GaussianNB()\n",
        "nb_model.fit(X_train, y_train)\n",
        "nb_preds = nb_model.predict(X_test)\n",
        "nb_accuracy = accuracy_score(y_test, nb_preds)\n",
        "print(nb_accuracy)"
      ],
      "metadata": {
        "id": "Gif6hTPRHAHm",
        "colab": {
          "base_uri": "https://localhost:8080/"
        },
        "outputId": "45726b3b-7d3d-426c-a76b-5347f67d9190"
      },
      "execution_count": 33,
      "outputs": [
        {
          "output_type": "stream",
          "name": "stdout",
          "text": [
            "1.0\n"
          ]
        },
        {
          "output_type": "stream",
          "name": "stderr",
          "text": [
            "/usr/local/lib/python3.10/dist-packages/sklearn/utils/validation.py:1143: DataConversionWarning: A column-vector y was passed when a 1d array was expected. Please change the shape of y to (n_samples, ), for example using ravel().\n",
            "  y = column_or_1d(y, warn=True)\n"
          ]
        }
      ]
    },
    {
      "cell_type": "code",
      "source": [
        "# Prediksi SVM\n",
        "svm_model = SVC()\n",
        "svm_model.fit(X_train, y_train)\n",
        "svm_preds = svm_model.predict(X_test)\n",
        "svm_accuracy = accuracy_score(y_test, svm_preds)\n",
        "print(svm_accuracy)"
      ],
      "metadata": {
        "id": "x1sA-laXHnLt",
        "colab": {
          "base_uri": "https://localhost:8080/"
        },
        "outputId": "a6d3c25e-1ba6-4aaf-fa5b-c164f65a2e11"
      },
      "execution_count": 34,
      "outputs": [
        {
          "output_type": "stream",
          "name": "stdout",
          "text": [
            "1.0\n"
          ]
        },
        {
          "output_type": "stream",
          "name": "stderr",
          "text": [
            "/usr/local/lib/python3.10/dist-packages/sklearn/utils/validation.py:1143: DataConversionWarning: A column-vector y was passed when a 1d array was expected. Please change the shape of y to (n_samples, ), for example using ravel().\n",
            "  y = column_or_1d(y, warn=True)\n"
          ]
        }
      ]
    },
    {
      "cell_type": "markdown",
      "source": [
        "###**Dataset Breast Cancer**"
      ],
      "metadata": {
        "id": "5hMg4zpmIAjz"
      }
    },
    {
      "cell_type": "code",
      "source": [
        "dataset_bc = pd.read_csv('breast_cancer.csv')"
      ],
      "metadata": {
        "id": "33b1M4GnImx2"
      },
      "execution_count": 40,
      "outputs": []
    },
    {
      "cell_type": "code",
      "source": [
        "cetak_rentang(dataset_bc)"
      ],
      "metadata": {
        "id": "zlyh54ksJjto",
        "colab": {
          "base_uri": "https://localhost:8080/"
        },
        "outputId": "323b1def-c680-4ddb-8ce3-0509698f6ab6"
      },
      "execution_count": 41,
      "outputs": [
        {
          "output_type": "stream",
          "name": "stdout",
          "text": [
            "Rentang fitur  id  adalah  170394\n",
            "Rentang fitur  clump_thickness  adalah  9.0\n",
            "Rentang fitur  cell_size  adalah  9.0\n",
            "Rentang fitur  cell_shape  adalah  9.0\n",
            "Rentang fitur  marginal_adhesion  adalah  9.0\n",
            "Rentang fitur  epithelial_cell_size  adalah  9.0\n",
            "Rentang fitur  bare_nucklei  adalah  9.0\n",
            "Rentang fitur  bland_chromatin  adalah  8.0\n",
            "Rentang fitur  normal_nucleoli  adalah  9.0\n",
            "Rentang fitur  mitoses  adalah  9.0\n"
          ]
        }
      ]
    },
    {
      "cell_type": "code",
      "source": [
        "data_normal_bc=minmax(dataset_bc)"
      ],
      "metadata": {
        "id": "YcMSh6iEJjku"
      },
      "execution_count": 44,
      "outputs": []
    },
    {
      "cell_type": "code",
      "source": [
        "data_normal_bc.isnull().sum()"
      ],
      "metadata": {
        "colab": {
          "base_uri": "https://localhost:8080/"
        },
        "id": "DblwhyYVDuCW",
        "outputId": "19e71452-3f26-4a4a-d7ab-6f3a427cf916"
      },
      "execution_count": 46,
      "outputs": [
        {
          "output_type": "execute_result",
          "data": {
            "text/plain": [
              "id                       0\n",
              "clump_thickness         10\n",
              "cell_size               10\n",
              "cell_shape              10\n",
              "marginal_adhesion       10\n",
              "epithelial_cell_size    10\n",
              "bare_nucklei            10\n",
              "bland_chromatin         10\n",
              "normal_nucleoli         10\n",
              "mitoses                 10\n",
              "diagnosis                0\n",
              "dtype: int64"
            ]
          },
          "metadata": {},
          "execution_count": 46
        }
      ]
    },
    {
      "cell_type": "code",
      "source": [
        "data_imputasi_bc= imputasi(data_normal_bc)"
      ],
      "metadata": {
        "id": "JFbnUgr3DuI2"
      },
      "execution_count": 47,
      "outputs": []
    },
    {
      "cell_type": "code",
      "source": [
        "data_imputasi_bc.isnull().sum()"
      ],
      "metadata": {
        "colab": {
          "base_uri": "https://localhost:8080/"
        },
        "id": "ID1YUz9pEH5Z",
        "outputId": "984d6625-2426-47b8-b6d2-cc9ce2fc12a5"
      },
      "execution_count": 48,
      "outputs": [
        {
          "output_type": "execute_result",
          "data": {
            "text/plain": [
              "id                      0\n",
              "clump_thickness         0\n",
              "cell_size               0\n",
              "cell_shape              0\n",
              "marginal_adhesion       0\n",
              "epithelial_cell_size    0\n",
              "bare_nucklei            0\n",
              "bland_chromatin         0\n",
              "normal_nucleoli         0\n",
              "mitoses                 0\n",
              "diagnosis               0\n",
              "dtype: int64"
            ]
          },
          "metadata": {},
          "execution_count": 48
        }
      ]
    },
    {
      "cell_type": "code",
      "source": [
        "cancer = data_imputasi_bc.values\n",
        "Xc = cancer[:,:-1]\n",
        "yc = cancer[:,-1:]\n",
        "X_train_c, X_test_c, y_train_c, y_test_c = train_test_split(Xc, yc, test_size=0.2, random_state=42)"
      ],
      "metadata": {
        "id": "T-8w6af2Dt1H"
      },
      "execution_count": 49,
      "outputs": []
    },
    {
      "cell_type": "code",
      "source": [
        "# Prediksi KNN\n",
        "knn_model = KNeighborsClassifier()\n",
        "knn_model.fit(X_train_c, y_train_c)\n",
        "knn_preds = knn_model.predict(X_test_c)\n",
        "knn_accuracy = accuracy_score(y_test_c, knn_preds)\n",
        "print(knn_accuracy)"
      ],
      "metadata": {
        "id": "RUM8A-06RbyZ",
        "colab": {
          "base_uri": "https://localhost:8080/"
        },
        "outputId": "a2e5862e-0e67-4185-c7f7-7275fa3682ce"
      },
      "execution_count": 50,
      "outputs": [
        {
          "output_type": "stream",
          "name": "stdout",
          "text": [
            "0.95\n"
          ]
        },
        {
          "output_type": "stream",
          "name": "stderr",
          "text": [
            "/usr/local/lib/python3.10/dist-packages/sklearn/neighbors/_classification.py:215: DataConversionWarning: A column-vector y was passed when a 1d array was expected. Please change the shape of y to (n_samples,), for example using ravel().\n",
            "  return self._fit(X, y)\n"
          ]
        }
      ]
    },
    {
      "cell_type": "code",
      "source": [
        "# Prediksi Naive Bayes (NB)\n",
        "nb_model = GaussianNB()\n",
        "nb_model.fit(X_train_c, y_train_c)\n",
        "nb_preds = nb_model.predict(X_test_c)\n",
        "nb_accuracy = accuracy_score(y_test_c, nb_preds)\n",
        "print(nb_accuracy)"
      ],
      "metadata": {
        "id": "w0HjyKfBRhhS",
        "colab": {
          "base_uri": "https://localhost:8080/"
        },
        "outputId": "0f0cc113-443d-4f6f-9aef-be99ec7e0ac3"
      },
      "execution_count": 51,
      "outputs": [
        {
          "output_type": "stream",
          "name": "stdout",
          "text": [
            "0.95\n"
          ]
        },
        {
          "output_type": "stream",
          "name": "stderr",
          "text": [
            "/usr/local/lib/python3.10/dist-packages/sklearn/utils/validation.py:1143: DataConversionWarning: A column-vector y was passed when a 1d array was expected. Please change the shape of y to (n_samples, ), for example using ravel().\n",
            "  y = column_or_1d(y, warn=True)\n"
          ]
        }
      ]
    },
    {
      "cell_type": "code",
      "source": [
        "# Prediksi SVM\n",
        "svm_model = SVC()\n",
        "svm_model.fit(X_train_c, y_train_c)\n",
        "svm_preds = svm_model.predict(X_test_c)\n",
        "svm_accuracy = accuracy_score(y_test_c, svm_preds)\n",
        "print(svm_accuracy)"
      ],
      "metadata": {
        "id": "khSPRNlTRoh7",
        "colab": {
          "base_uri": "https://localhost:8080/"
        },
        "outputId": "884e99c4-3ca5-4d8a-ad04-85e0bc98d30c"
      },
      "execution_count": 52,
      "outputs": [
        {
          "output_type": "stream",
          "name": "stdout",
          "text": [
            "1.0\n"
          ]
        },
        {
          "output_type": "stream",
          "name": "stderr",
          "text": [
            "/usr/local/lib/python3.10/dist-packages/sklearn/utils/validation.py:1143: DataConversionWarning: A column-vector y was passed when a 1d array was expected. Please change the shape of y to (n_samples, ), for example using ravel().\n",
            "  y = column_or_1d(y, warn=True)\n"
          ]
        }
      ]
    },
    {
      "cell_type": "markdown",
      "source": [
        "### Penjelasan\n",
        "\n",
        "1.   Jelaskan hasil prediksi dari dataset iris pada setiap model yang digunakan! Model apa yang memiliki tingkat akurasi tertinggi?\n",
        "2.   Jelaskan hasil prediksi dari dataset breast cancer pada setiap model yang digunakan! Model apa yang memiliki tingkat akurasi tertinggi?"
      ],
      "metadata": {
        "id": "fMmjLeBrT-o_"
      }
    },
    {
      "cell_type": "markdown",
      "source": [
        "Jawaban:\n",
        "\n",
        "1.   Hasil prediksi dataset iris Knn: 1.0 Nb: 1.0 SVM: 1.0. Ketiga model cocok dengan dataset iris\n",
        "\n",
        "2. Hasil prediksi dataset breast cancer Knn: 0,95 Nb: 0,95 SVM: 1,0. Model SVM yang memiliki tingkat akurasi yang tinggi. yang berarti model svm cocok dengan dataset breast cancer\n",
        "\n"
      ],
      "metadata": {
        "id": "7LCPEPhGEdCO"
      }
    }
  ]
}